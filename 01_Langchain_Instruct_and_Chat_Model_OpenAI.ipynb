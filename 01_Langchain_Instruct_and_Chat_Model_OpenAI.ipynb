{
  "nbformat": 4,
  "nbformat_minor": 0,
  "metadata": {
    "colab": {
      "provenance": [],
      "gpuType": "T4"
    },
    "kernelspec": {
      "name": "python3",
      "display_name": "Python 3"
    },
    "language_info": {
      "name": "python"
    },
    "accelerator": "GPU"
  },
  "cells": [
    {
      "cell_type": "markdown",
      "source": [
        "## Importing Required Dependencies"
      ],
      "metadata": {
        "id": "GjBebs_Xp_0R"
      }
    },
    {
      "cell_type": "code",
      "source": [
        "import os\n",
        "from google.colab import userdata\n",
        "from langchain_openai import OpenAI\n",
        "from langchain_openai import ChatOpenAI"
      ],
      "metadata": {
        "id": "9aq8yNZYoVjf"
      },
      "execution_count": 1,
      "outputs": []
    },
    {
      "cell_type": "markdown",
      "source": [
        "## Get API Tokens"
      ],
      "metadata": {
        "id": "pTLHpBpenoX-"
      }
    },
    {
      "cell_type": "code",
      "source": [
        "OPENAI_API_KEY = userdata.get('OPENAI_API_KEY')"
      ],
      "metadata": {
        "id": "F0NTMk8EnaR3"
      },
      "execution_count": 2,
      "outputs": []
    },
    {
      "cell_type": "code",
      "source": [
        "os.environ['OPENAI_API_KEY'] = OPENAI_API_KEY"
      ],
      "metadata": {
        "id": "Xpc0P_cin0Y9"
      },
      "execution_count": 3,
      "outputs": []
    },
    {
      "cell_type": "markdown",
      "source": [
        "# Model Input/Output\n",
        "\n",
        "In LangChain, the language model is the core of any application, ensuring smooth integration and communication.\n",
        "\n",
        "### Key Components of Model Input/Output:\n",
        "\n",
        "**LLMs and Chat Models:**\n",
        "\n",
        "- **LLMs:** Pure text completion models that take a text string as input nd return a text string.\n",
        "\n",
        "- **CHat Models:** Language models with different I/O types, taking a list of chat messages as input and producing a chat message as output.\n"
      ],
      "metadata": {
        "id": "T4taEsUfrXKo"
      }
    },
    {
      "cell_type": "markdown",
      "source": [
        "## Accessing Commercial LLMs like ChatGPT as an Instruct LLM"
      ],
      "metadata": {
        "id": "ojz5I1iOn-84"
      }
    },
    {
      "cell_type": "code",
      "source": [
        "# load the Open AI model\n",
        "llm = OpenAI(\n",
        "    model_name = \"gpt-3.5-turbo-instruct\",  # specify model name to use\n",
        "    temperature=0,    # set the temperature (0 means less randomness)\n",
        ")"
      ],
      "metadata": {
        "id": "GkV-KyYKn-wE"
      },
      "execution_count": 4,
      "outputs": []
    },
    {
      "cell_type": "code",
      "source": [
        "# define prompt\n",
        "prompt = \"Explain Artificial Intelligence in three points\"\n",
        "print(prompt)"
      ],
      "metadata": {
        "colab": {
          "base_uri": "https://localhost:8080/"
        },
        "id": "yTTtLg4on8TC",
        "outputId": "f9517069-b47c-47c3-cbdb-b7d818707ae8"
      },
      "execution_count": 5,
      "outputs": [
        {
          "output_type": "stream",
          "name": "stdout",
          "text": [
            "Explain Artificial Intelligence in three points\n"
          ]
        }
      ]
    },
    {
      "cell_type": "code",
      "source": [
        "# invoke the model with defined prompt\n",
        "response = llm.invoke(prompt)\n",
        "print(response)"
      ],
      "metadata": {
        "colab": {
          "base_uri": "https://localhost:8080/"
        },
        "id": "slzb8Pxfoq4a",
        "outputId": "f6176199-c0a0-4a98-c3aa-f5767ef438ac"
      },
      "execution_count": 6,
      "outputs": [
        {
          "output_type": "stream",
          "name": "stdout",
          "text": [
            "\n",
            "\n",
            "1. Artificial Intelligence (AI) is a branch of computer science that focuses on creating intelligent machines that can perform tasks that typically require human intelligence. This includes tasks such as learning, problem-solving, decision making, and natural language processing.\n",
            "\n",
            "2. AI systems use algorithms and data to analyze and learn from patterns and make predictions or decisions based on that information. This allows them to continuously improve and adapt to new situations, making them more efficient and accurate over time.\n",
            "\n",
            "3. AI has a wide range of applications, including virtual assistants, self-driving cars, medical diagnosis, and fraud detection. It has the potential to greatly impact various industries and improve our daily lives by automating tasks, increasing efficiency, and providing valuable insights. However, there are also concerns about the ethical implications and potential risks of AI, such as job displacement and biased decision-making. \n"
          ]
        }
      ]
    },
    {
      "cell_type": "markdown",
      "source": [
        "## Accessing ChatGPT as a Chat Model LLM"
      ],
      "metadata": {
        "id": "pMgEYKcgo0zx"
      }
    },
    {
      "cell_type": "code",
      "source": [
        "# load Chat Open AI model with below parameters\n",
        "llm = ChatOpenAI(\n",
        "    model_name = \"gpt-3.5-turbo\",\n",
        "    temperature=0\n",
        ")"
      ],
      "metadata": {
        "id": "O5lyvOiiox-x"
      },
      "execution_count": 7,
      "outputs": []
    },
    {
      "cell_type": "code",
      "source": [
        "prompt = \"Explain Artificial Intelligence in three points\"\n",
        "print(prompt)"
      ],
      "metadata": {
        "colab": {
          "base_uri": "https://localhost:8080/"
        },
        "id": "hrHXkfMXpVoM",
        "outputId": "42725206-15f4-4211-a167-736fd533011f"
      },
      "execution_count": 8,
      "outputs": [
        {
          "output_type": "stream",
          "name": "stdout",
          "text": [
            "Explain Artificial Intelligence in three points\n"
          ]
        }
      ]
    },
    {
      "cell_type": "code",
      "source": [
        "# get response by invoking the llm model with defined prompt\n",
        "response = llm.invoke(prompt)\n",
        "response"
      ],
      "metadata": {
        "colab": {
          "base_uri": "https://localhost:8080/"
        },
        "id": "DobbZtHapYu2",
        "outputId": "502cf91e-4298-4985-b3ea-8d1a8e5b52d8"
      },
      "execution_count": 9,
      "outputs": [
        {
          "output_type": "execute_result",
          "data": {
            "text/plain": [
              "AIMessage(content='1. Artificial Intelligence (AI) refers to the simulation of human intelligence processes by machines, such as learning, reasoning, problem-solving, perception, and language understanding. AI systems are designed to perform tasks that typically require human intelligence, such as visual perception, speech recognition, decision-making, and language translation.\\n\\n2. AI technologies include machine learning, neural networks, natural language processing, computer vision, and robotics. These technologies enable machines to analyze and interpret complex data, make decisions based on patterns and trends, and interact with humans in a more natural and intuitive way.\\n\\n3. AI has a wide range of applications across various industries, including healthcare, finance, transportation, retail, and entertainment. AI systems are used to improve efficiency, accuracy, and productivity in tasks such as diagnosing diseases, predicting market trends, optimizing supply chains, and personalizing customer experiences. However, AI also raises ethical and societal concerns, such as job displacement, privacy issues, and bias in decision-making.', response_metadata={'token_usage': {'completion_tokens': 196, 'prompt_tokens': 14, 'total_tokens': 210}, 'model_name': 'gpt-3.5-turbo', 'system_fingerprint': None, 'finish_reason': 'stop', 'logprobs': None}, id='run-a81be872-ef0e-4246-89c3-2ac86d3559ee-0')"
            ]
          },
          "metadata": {},
          "execution_count": 9
        }
      ]
    },
    {
      "cell_type": "code",
      "source": [
        "# print response content\n",
        "print(response.content)"
      ],
      "metadata": {
        "colab": {
          "base_uri": "https://localhost:8080/"
        },
        "id": "44aPfmfIpe6f",
        "outputId": "1dfc635e-cf97-4dbf-ad3a-a54676725d96"
      },
      "execution_count": 10,
      "outputs": [
        {
          "output_type": "stream",
          "name": "stdout",
          "text": [
            "1. Artificial Intelligence (AI) refers to the simulation of human intelligence processes by machines, such as learning, reasoning, problem-solving, perception, and language understanding. AI systems are designed to perform tasks that typically require human intelligence, such as visual perception, speech recognition, decision-making, and language translation.\n",
            "\n",
            "2. AI technologies include machine learning, neural networks, natural language processing, computer vision, and robotics. These technologies enable machines to analyze and interpret complex data, make decisions based on patterns and trends, and interact with humans in a more natural and intuitive way.\n",
            "\n",
            "3. AI has a wide range of applications across various industries, including healthcare, finance, transportation, retail, and entertainment. AI systems are used to improve efficiency, accuracy, and productivity in tasks such as diagnosing diseases, predicting market trends, optimizing supply chains, and personalizing customer experiences. However, AI also raises ethical and societal concerns, such as job displacement, privacy issues, and bias in decision-making.\n"
          ]
        }
      ]
    }
  ]
}