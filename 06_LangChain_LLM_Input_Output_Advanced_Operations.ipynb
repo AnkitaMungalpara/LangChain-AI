{
  "nbformat": 4,
  "nbformat_minor": 0,
  "metadata": {
    "colab": {
      "provenance": []
    },
    "kernelspec": {
      "name": "python3",
      "display_name": "Python 3"
    },
    "language_info": {
      "name": "python"
    }
  },
  "cells": [
    {
      "cell_type": "markdown",
      "source": [
        "# LLM Input/Output - Advanced Operations with LangChain"
      ],
      "metadata": {
        "id": "Ens56DhTuq4b"
      }
    },
    {
      "cell_type": "markdown",
      "source": [
        "The following operations are covered in this notebook:\n",
        "\n",
        "- Cost Monitoring\n",
        "- Caching\n",
        "- Streaming\n",
        "\n",
        "\n"
      ],
      "metadata": {
        "id": "W4J9QKs0u1Bg"
      }
    },
    {
      "cell_type": "markdown",
      "source": [
        "### Enter API Tokens"
      ],
      "metadata": {
        "id": "6zf5sgfHvJZ1"
      }
    },
    {
      "cell_type": "code",
      "source": [
        "from google.colab import userdata\n",
        "OPENAI_API_KEY = userdata.get('OPENAI_API_KEY')"
      ],
      "metadata": {
        "id": "0a3WGdAivD2S"
      },
      "execution_count": 2,
      "outputs": []
    },
    {
      "cell_type": "code",
      "source": [
        "import os\n",
        "os.environ['OPENAI_API_KEY'] = OPENAI_API_KEY"
      ],
      "metadata": {
        "id": "LsbCGixZvNVL"
      },
      "execution_count": 3,
      "outputs": []
    },
    {
      "cell_type": "markdown",
      "source": [
        "## Chat Models and LLMs"
      ],
      "metadata": {
        "id": "9DvBaADhvUCo"
      }
    },
    {
      "cell_type": "markdown",
      "source": [
        "### Accessing Commercial LLMs like ChatGPT"
      ],
      "metadata": {
        "id": "jeTGUPAZvXaT"
      }
    },
    {
      "cell_type": "code",
      "source": [
        "from langchain_openai import ChatOpenAI\n",
        "\n",
        "# instantiate the model\n",
        "llm = ChatOpenAI(\n",
        "                    model='gpt-3.5-turbo',\n",
        "                    temperature=0\n",
        "              )"
      ],
      "metadata": {
        "id": "_MWZjWKnvOwo"
      },
      "execution_count": 4,
      "outputs": []
    },
    {
      "cell_type": "markdown",
      "source": [
        "## Tracking LLM Costs\n",
        "\n",
        "Usually, large language models (LLMs) like ChatGPT charge based on the number of tokens used per request and response. Tokens are essentially chunks of text, and the cost is calculated based on how many tokens are processed in a given interaction. You can track your token usage for specific API calls to manage and optimize your costs effectively.\n",
        "\n",
        "Currently, this tracking feature is only implemented for the OpenAI API, allowing users to monitor and control their token consumption more precisely."
      ],
      "metadata": {
        "id": "L9iPeSO2vgug"
      }
    },
    {
      "cell_type": "code",
      "source": [
        "from langchain_community.callbacks import get_openai_callback"
      ],
      "metadata": {
        "id": "uL6r8__UvaNq"
      },
      "execution_count": 5,
      "outputs": []
    },
    {
      "cell_type": "code",
      "source": [
        "prompt = \"\"\"Explain Deep Learning in one sentence\"\"\"\n",
        "\n",
        "with get_openai_callback() as callback:\n",
        "  response = llm.invoke(prompt)\n",
        "  print(response.content)\n",
        "  print(callback)"
      ],
      "metadata": {
        "colab": {
          "base_uri": "https://localhost:8080/"
        },
        "id": "GNGgpCNfvse_",
        "outputId": "767c1b40-c1fb-43ae-b2a8-ff57e297787c"
      },
      "execution_count": 6,
      "outputs": [
        {
          "output_type": "stream",
          "name": "stdout",
          "text": [
            "Deep learning is a subset of machine learning that uses artificial neural networks to model and solve complex problems by learning from large amounts of data.\n",
            "Tokens Used: 41\n",
            "\tPrompt Tokens: 14\n",
            "\tCompletion Tokens: 27\n",
            "Successful Requests: 1\n",
            "Total Cost (USD): $7.500000000000001e-05\n"
          ]
        }
      ]
    },
    {
      "cell_type": "code",
      "source": [
        "callback.total_tokens"
      ],
      "metadata": {
        "colab": {
          "base_uri": "https://localhost:8080/"
        },
        "id": "mYL4SznWwCEG",
        "outputId": "f4a38cb7-98ba-4d58-fa51-ea12a7521576"
      },
      "execution_count": 7,
      "outputs": [
        {
          "output_type": "execute_result",
          "data": {
            "text/plain": [
              "41"
            ]
          },
          "metadata": {},
          "execution_count": 7
        }
      ]
    },
    {
      "cell_type": "code",
      "source": [
        "callback.prompt_tokens, callback.completion_tokens"
      ],
      "metadata": {
        "colab": {
          "base_uri": "https://localhost:8080/"
        },
        "id": "js_7lqHwwJp9",
        "outputId": "b6b7d28d-6cee-417b-dd59-8538a57bcc0c"
      },
      "execution_count": 8,
      "outputs": [
        {
          "output_type": "execute_result",
          "data": {
            "text/plain": [
              "(14, 27)"
            ]
          },
          "metadata": {},
          "execution_count": 8
        }
      ]
    },
    {
      "cell_type": "code",
      "source": [
        "callback.total_cost"
      ],
      "metadata": {
        "colab": {
          "base_uri": "https://localhost:8080/"
        },
        "id": "pjvtt4ANwP1o",
        "outputId": "e507e8dd-9972-4d94-fef7-e6390cae1677"
      },
      "execution_count": 9,
      "outputs": [
        {
          "output_type": "execute_result",
          "data": {
            "text/plain": [
              "7.500000000000001e-05"
            ]
          },
          "metadata": {},
          "execution_count": 9
        }
      ]
    },
    {
      "cell_type": "markdown",
      "source": [
        "## Caching in LangChain\n",
        "\n",
        "LangChain includes an optional caching layer for language model APIs (LLMs), offering significant benefits in terms of cost efficiency and performance improvement.\n",
        "\n",
        "1. **Cost Efficiency**:\n",
        "- The caching feature helps reduce the number of API calls made to LLM providers. By storing responses, you can avoid repeatedly requesting the same completions.\n",
        "\n",
        "- This is particularly advantageous for applications that frequently make identical requests, as it can substantially lower operational costs.\n",
        "\n",
        "2. **Performance Improvement**:\n",
        "- Caching can greatly enhance your application's speed by minimizing the need for repeated API calls to the LLM provider.\n",
        "\n",
        "- With cached responses readily available, interactions become faster and more efficient, leading to a smoother user experience and quicker processing times.\n",
        "\n",
        "\n",
        "Overall, LangChain's caching layer is a valuable feature for optimizing both the cost and performance of applications using language model APIs."
      ],
      "metadata": {
        "id": "R9R3KQazwTEc"
      }
    },
    {
      "cell_type": "markdown",
      "source": [
        "### InMemoryCache"
      ],
      "metadata": {
        "id": "hXkho_VSwaIx"
      }
    },
    {
      "cell_type": "code",
      "source": [
        "%%time\n",
        "\n",
        "from langchain.cache import InMemoryCache\n",
        "from langchain.globals import set_llm_cache\n",
        "\n",
        "set_llm_cache(InMemoryCache())\n",
        "\n",
        "from langchain_core.prompts import ChatPromptTemplate\n",
        "\n",
        "# first invoke to the model, as it will take loner time to execute\n",
        "prompt = \"\"\"Explain what is Digital Image Processing\"\"\"\n",
        "template = ChatPromptTemplate.from_template(template=prompt)\n",
        "llm.invoke(template.format())"
      ],
      "metadata": {
        "colab": {
          "base_uri": "https://localhost:8080/"
        },
        "id": "BjRjCIomwSK9",
        "outputId": "15bd6bc0-ffd5-4c1e-d405-1bf1587bcccf"
      },
      "execution_count": 10,
      "outputs": [
        {
          "output_type": "stream",
          "name": "stdout",
          "text": [
            "CPU times: user 580 ms, sys: 36.1 ms, total: 616 ms\n",
            "Wall time: 2.46 s\n"
          ]
        },
        {
          "output_type": "execute_result",
          "data": {
            "text/plain": [
              "AIMessage(content='Digital image processing is the manipulation and analysis of digital images using various algorithms and techniques to enhance, compress, or extract information from the images. It involves processing images captured by digital cameras or generated by computer graphics to improve their quality, extract useful information, or perform specific tasks such as image recognition, pattern recognition, and image restoration. Digital image processing is widely used in various fields such as medical imaging, remote sensing, surveillance, and multimedia applications.', response_metadata={'token_usage': {'completion_tokens': 89, 'prompt_tokens': 15, 'total_tokens': 104}, 'model_name': 'gpt-3.5-turbo', 'system_fingerprint': None, 'finish_reason': 'stop', 'logprobs': None}, id='run-aa195ef4-de0b-472f-badd-65ec7d7b92cd-0')"
            ]
          },
          "metadata": {},
          "execution_count": 10
        }
      ]
    },
    {
      "cell_type": "code",
      "source": [
        "%%time\n",
        "# second invoke to the model, and it executes faster\n",
        "llm.invoke(template.format())"
      ],
      "metadata": {
        "colab": {
          "base_uri": "https://localhost:8080/"
        },
        "id": "GOZzhkLAxAHz",
        "outputId": "bc952dc6-57e6-4bc4-8fe4-81881dd07c08"
      },
      "execution_count": 11,
      "outputs": [
        {
          "output_type": "stream",
          "name": "stdout",
          "text": [
            "CPU times: user 2.87 ms, sys: 0 ns, total: 2.87 ms\n",
            "Wall time: 2.72 ms\n"
          ]
        },
        {
          "output_type": "execute_result",
          "data": {
            "text/plain": [
              "AIMessage(content='Digital image processing is the manipulation and analysis of digital images using various algorithms and techniques to enhance, compress, or extract information from the images. It involves processing images captured by digital cameras or generated by computer graphics to improve their quality, extract useful information, or perform specific tasks such as image recognition, pattern recognition, and image restoration. Digital image processing is widely used in various fields such as medical imaging, remote sensing, surveillance, and multimedia applications.', response_metadata={'token_usage': {'completion_tokens': 89, 'prompt_tokens': 15, 'total_tokens': 104}, 'model_name': 'gpt-3.5-turbo', 'system_fingerprint': None, 'finish_reason': 'stop', 'logprobs': None}, id='run-aa195ef4-de0b-472f-badd-65ec7d7b92cd-0')"
            ]
          },
          "metadata": {},
          "execution_count": 11
        }
      ]
    },
    {
      "cell_type": "markdown",
      "source": [
        "### SQLite Cache"
      ],
      "metadata": {
        "id": "2eCePfISxVF9"
      }
    },
    {
      "cell_type": "code",
      "source": [
        "# remove cache if already exists\n",
        "!rm langchain.db"
      ],
      "metadata": {
        "colab": {
          "base_uri": "https://localhost:8080/"
        },
        "id": "H4-BzELIxO_S",
        "outputId": "9bf2beea-7f89-4d78-a923-554de21eb893"
      },
      "execution_count": 12,
      "outputs": [
        {
          "output_type": "stream",
          "name": "stdout",
          "text": [
            "rm: cannot remove 'langchain.db': No such file or directory\n"
          ]
        }
      ]
    },
    {
      "cell_type": "code",
      "source": [
        "from langchain.cache import SQLiteCache\n",
        "\n",
        "set_llm_cache(SQLiteCache(database_path=\"langchain.db\"))"
      ],
      "metadata": {
        "id": "Gn7ymxsWxj9Q"
      },
      "execution_count": 13,
      "outputs": []
    },
    {
      "cell_type": "code",
      "source": [
        "%%time\n",
        "\n",
        "prompt = \"\"\"one use cse of topological sorting\"\"\"\n",
        "\n",
        "# first invoke to the model, as it will take loner time to execute\n",
        "template = ChatPromptTemplate.from_template(prompt)\n",
        "llm.invoke(template.format())"
      ],
      "metadata": {
        "colab": {
          "base_uri": "https://localhost:8080/"
        },
        "id": "uM0Q7c-TxvmB",
        "outputId": "7cbd4b64-8c4f-40c5-978e-2533401e31b7"
      },
      "execution_count": 14,
      "outputs": [
        {
          "output_type": "stream",
          "name": "stdout",
          "text": [
            "CPU times: user 50.9 ms, sys: 2.76 ms, total: 53.6 ms\n",
            "Wall time: 1.37 s\n"
          ]
        },
        {
          "output_type": "execute_result",
          "data": {
            "text/plain": [
              "AIMessage(content='One use case of topological sorting is in scheduling tasks or activities that have dependencies on each other. For example, in project management, tasks need to be completed in a specific order to ensure that all dependencies are met. Topological sorting can help determine the order in which tasks should be executed to meet these dependencies and complete the project efficiently.', response_metadata={'token_usage': {'completion_tokens': 68, 'prompt_tokens': 17, 'total_tokens': 85}, 'model_name': 'gpt-3.5-turbo', 'system_fingerprint': None, 'finish_reason': 'stop', 'logprobs': None}, id='run-a4199711-8363-4a3a-89c6-8144ac8d1178-0')"
            ]
          },
          "metadata": {},
          "execution_count": 14
        }
      ]
    },
    {
      "cell_type": "code",
      "source": [
        "%%time\n",
        "# second invoke to the model, and it executes faster\n",
        "llm.invoke(template.format())"
      ],
      "metadata": {
        "colab": {
          "base_uri": "https://localhost:8080/"
        },
        "id": "gmomozo5yfCg",
        "outputId": "a2740703-f665-4d6f-fe52-501efe751776"
      },
      "execution_count": 15,
      "outputs": [
        {
          "output_type": "stream",
          "name": "stdout",
          "text": [
            "CPU times: user 109 ms, sys: 58.6 ms, total: 168 ms\n",
            "Wall time: 167 ms\n"
          ]
        },
        {
          "output_type": "execute_result",
          "data": {
            "text/plain": [
              "AIMessage(content='One use case of topological sorting is in scheduling tasks or activities that have dependencies on each other. For example, in project management, tasks need to be completed in a specific order to ensure that all dependencies are met. Topological sorting can help determine the order in which tasks should be executed to meet these dependencies and complete the project efficiently.', response_metadata={'token_usage': {'completion_tokens': 68, 'prompt_tokens': 17, 'total_tokens': 85}, 'model_name': 'gpt-3.5-turbo', 'system_fingerprint': None, 'finish_reason': 'stop', 'logprobs': None}, id='run-a4199711-8363-4a3a-89c6-8144ac8d1178-0')"
            ]
          },
          "metadata": {},
          "execution_count": 15
        }
      ]
    },
    {
      "cell_type": "markdown",
      "source": [
        "## Streaming in LLMs\n",
        "\n",
        "\n",
        "All language model interfaces (LLMs) in LangChain implement the `Runnable` interface, which provides a set of default methods, including `ainvoke`, `batch`, `abatch`, `stream`, and `astream`. This comprehensive setup ensures that all LLMs are equipped with basic streaming capabilities, facilitating both synchronous and asynchronous operations.\n",
        "\n",
        "# Streaming Defaults:\n",
        "\n",
        "- **Synchronous Streaming**:\n",
        "   - By default, synchronous streaming operations return an `Iterator` that yields a single value, representing the final result from the LLM provider.\n",
        "\n",
        "   - This approach allows for efficient processing of responses in a sequential manner.\n",
        "\n",
        "- **Asynchronous Streaming**:\n",
        "   - Similarly, asynchronous streaming operations default to returning an `AsyncIterator` that also yields the final result.\n",
        "\n",
        "   - This method supports non-blocking operations, enabling the handling of multiple tasks concurrently and improving overall performance in applications requiring real-time interactions.\n",
        "\n",
        "\n",
        "This standardized interface and default behavior streamline the implementation of various language models within LangChain, ensuring consistency and ease of use across different streaming scenarios."
      ],
      "metadata": {
        "id": "LAbzM25Pyo-l"
      }
    },
    {
      "cell_type": "code",
      "source": [
        "prompt = \"\"\"one advantage of distributed computing in one line\"\"\"\n",
        "\n",
        "template = ChatPromptTemplate.from_template(prompt)\n",
        "\n",
        "# streaming response\n",
        "for chunk in llm.stream(template.format()):\n",
        "  print(chunk.content)"
      ],
      "metadata": {
        "colab": {
          "base_uri": "https://localhost:8080/"
        },
        "id": "DN1qupckyrqQ",
        "outputId": "ea06862c-e766-470c-a09a-f074e021092e"
      },
      "execution_count": 16,
      "outputs": [
        {
          "output_type": "stream",
          "name": "stdout",
          "text": [
            "\n",
            "Increased\n",
            " fault\n",
            " tolerance\n",
            " and\n",
            " reliability\n",
            " due\n",
            " to\n",
            " multiple\n",
            " nodes\n",
            " working\n",
            " together\n",
            ".\n",
            "\n"
          ]
        }
      ]
    },
    {
      "cell_type": "code",
      "source": [
        "prompt = \"\"\"Explain distributed computing in detail\"\"\"\n",
        "\n",
        "template = ChatPromptTemplate.from_template(prompt)\n",
        "\n",
        "response = []\n",
        "for chunk in llm.stream(template.format()):\n",
        "  print(chunk.content, end = \"\")\n",
        "  response.append(chunk.content)"
      ],
      "metadata": {
        "colab": {
          "base_uri": "https://localhost:8080/"
        },
        "id": "R5K7WVDyynny",
        "outputId": "2c26659a-035d-484d-f342-a58852e9834f"
      },
      "execution_count": 21,
      "outputs": [
        {
          "output_type": "stream",
          "name": "stdout",
          "text": [
            "Distributed computing is a computing paradigm in which multiple computers work together on a task, sharing resources and processing power to achieve a common goal. In a distributed computing system, tasks are divided into smaller sub-tasks and distributed among multiple computers, often referred to as nodes or servers. These nodes communicate with each other over a network to coordinate their efforts and share information.\n",
            "\n",
            "One of the key advantages of distributed computing is its ability to harness the collective power of multiple computers to solve complex problems more quickly and efficiently than a single computer could on its own. By distributing the workload among multiple nodes, distributed computing systems can handle larger volumes of data and perform computations at a faster rate.\n",
            "\n",
            "There are several different models of distributed computing, including client-server architecture, peer-to-peer networks, and grid computing. In a client-server architecture, one or more central servers coordinate the activities of multiple client computers, which request and receive services from the server. In a peer-to-peer network, all nodes have equal status and can communicate directly with each other to share resources and information. Grid computing involves connecting multiple computers across different locations to form a virtual supercomputer, enabling large-scale computations and data processing.\n",
            "\n",
            "Distributed computing is used in a wide range of applications, including scientific research, data analysis, financial modeling, and cloud computing. It offers scalability, fault tolerance, and high performance, making it a valuable tool for organizations looking to leverage the power of multiple computers to solve complex problems."
          ]
        }
      ]
    }
  ]
}