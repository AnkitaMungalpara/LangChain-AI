{
  "nbformat": 4,
  "nbformat_minor": 0,
  "metadata": {
    "colab": {
      "provenance": []
    },
    "kernelspec": {
      "name": "python3",
      "display_name": "Python 3"
    },
    "language_info": {
      "name": "python"
    }
  },
  "cells": [
    {
      "cell_type": "markdown",
      "source": [
        "# Chat Models and LLMs"
      ],
      "metadata": {
        "id": "1r0rxhtoee9S"
      }
    },
    {
      "cell_type": "markdown",
      "source": [
        "Large Language Models (LLMs) are essential to LangChain, which does not create its own LLMs but offers a standardized API to interact with various LLM providers like OpenAI and Hugging Face. The LLM class in LangChain ensures a consistent interface for engaging with these diverse LLMs."
      ],
      "metadata": {
        "id": "zyj-DOhZSSJb"
      }
    },
    {
      "cell_type": "markdown",
      "source": [
        "### Enter API Token"
      ],
      "metadata": {
        "id": "o_nThl7QeKlk"
      }
    },
    {
      "cell_type": "code",
      "source": [
        "from google.colab import userdata\n",
        "OPENAI_API_KEY = userdata.get('OPENAI_API_KEY')"
      ],
      "metadata": {
        "id": "HMqryDuAeJYB"
      },
      "execution_count": 2,
      "outputs": []
    },
    {
      "cell_type": "code",
      "source": [
        "import os\n",
        "os.environ['OPENAI_API_KEY'] = OPENAI_API_KEY"
      ],
      "metadata": {
        "id": "uiruh39geGyL"
      },
      "execution_count": 3,
      "outputs": []
    },
    {
      "cell_type": "markdown",
      "source": [
        "### LLM ChatOpenAI"
      ],
      "metadata": {
        "id": "Vn2jTs4osItk"
      }
    },
    {
      "cell_type": "code",
      "source": [
        "from langchain_openai import ChatOpenAI\n",
        "\n",
        "llm = ChatOpenAI(\n",
        "            model_name = \"gpt-3.5-turbo\",\n",
        "            temperature=0\n",
        "        )"
      ],
      "metadata": {
        "id": "Qhx0TuHUecK8"
      },
      "execution_count": 4,
      "outputs": []
    },
    {
      "cell_type": "markdown",
      "source": [
        "## Prompt Templates\n",
        "\n",
        "Prompt templates are pre-designed formats used to generate prompts for language models. These templates can include instructions, examples, and specific contexts and questions suited for particular tasks.\n",
        "\n",
        "### Types of Prompt Templates:\n",
        "\n",
        "*   **PromptTemplate**: Utilized for creating string-based prompts, supporting Python's `str.format` syntax for templating. It accommodates any number of variables, including scenarios without variables.\n",
        "\n",
        "*   **ChatPromptTemplate**: Specifically designed for chat models, where the prompt is structured as a list of chat messages. Each message includes content and a role parameter, distinguishing between AI assistant, human, or system roles.\n",
        "\n",
        "*   **FewShotChatMessagePromptTemplate**: This template is created from a set of examples"
      ],
      "metadata": {
        "id": "Kydech9ue4d9"
      }
    },
    {
      "cell_type": "markdown",
      "source": [
        "### PromptTemplate\n",
        "\n",
        "We utilize `PromptTemplate` to create structured string prompts, utilizing Python's `str.format` syntax by default for templating. This allows customization of prompt formats according to specific needs. For more details, refer [Prompt Template Composition](https://python.langchain.com/v0.1/docs/modules/model_io/prompts/composition/)."
      ],
      "metadata": {
        "id": "k_0NFkV2e7o5"
      }
    },
    {
      "cell_type": "markdown",
      "source": [
        "Single Prompt"
      ],
      "metadata": {
        "id": "uc8SLUpIfu3q"
      }
    },
    {
      "cell_type": "code",
      "source": [
        "from langchain.prompts import PromptTemplate\n",
        "\n",
        "prompt = \"\"\"Explain what is Machine Learning in 3 points\"\"\"\n",
        "prompt_template = PromptTemplate.from_template(prompt)\n",
        "prompt_template"
      ],
      "metadata": {
        "colab": {
          "base_uri": "https://localhost:8080/"
        },
        "id": "xm0j7NyLeymp",
        "outputId": "22624311-840d-471d-e430-1deab0934979"
      },
      "execution_count": 5,
      "outputs": [
        {
          "output_type": "execute_result",
          "data": {
            "text/plain": [
              "PromptTemplate(input_variables=[], template='Explain what is Machine Learning in 3 points')"
            ]
          },
          "metadata": {},
          "execution_count": 5
        }
      ]
    },
    {
      "cell_type": "code",
      "source": [
        "prompt_template.format()"
      ],
      "metadata": {
        "colab": {
          "base_uri": "https://localhost:8080/",
          "height": 35
        },
        "id": "hIGjf195fcHL",
        "outputId": "1ad4e537-2b8e-4ced-fe97-a74ccd9b56cc"
      },
      "execution_count": 6,
      "outputs": [
        {
          "output_type": "execute_result",
          "data": {
            "text/plain": [
              "'Explain what is Machine Learning in 3 points'"
            ],
            "application/vnd.google.colaboratory.intrinsic+json": {
              "type": "string"
            }
          },
          "metadata": {},
          "execution_count": 6
        }
      ]
    },
    {
      "cell_type": "code",
      "source": [
        "response = llm.invoke(prompt_template.format())\n",
        "print(response.content)"
      ],
      "metadata": {
        "colab": {
          "base_uri": "https://localhost:8080/"
        },
        "id": "uWH2UF-lferv",
        "outputId": "830bdcb8-f096-40ac-e52c-edefaac3009d"
      },
      "execution_count": 7,
      "outputs": [
        {
          "output_type": "stream",
          "name": "stdout",
          "text": [
            "1. Machine learning is a subset of artificial intelligence that involves the development of algorithms and statistical models that enable computers to learn from and make predictions or decisions based on data without being explicitly programmed.\n",
            "\n",
            "2. Machine learning algorithms use patterns and insights from data to improve their performance over time, allowing them to adapt and make more accurate predictions or decisions as they are exposed to more data.\n",
            "\n",
            "3. Machine learning is used in a wide range of applications, including image and speech recognition, natural language processing, recommendation systems, and autonomous vehicles, among others. It has the potential to revolutionize industries and improve efficiency and accuracy in various tasks.\n"
          ]
        }
      ]
    },
    {
      "cell_type": "markdown",
      "source": [
        "More complex Prompt with Placeholders"
      ],
      "metadata": {
        "id": "HXvy_hUVfxVd"
      }
    },
    {
      "cell_type": "code",
      "source": [
        "prompt = \"\"\"Explain briefly about {subject} in {language}.\"\"\"\n",
        "\n",
        "prompt_template = PromptTemplate.from_template(prompt)\n",
        "prompt_template"
      ],
      "metadata": {
        "colab": {
          "base_uri": "https://localhost:8080/"
        },
        "id": "12U6jeq7fn_C",
        "outputId": "3a7360f1-8097-4de5-a958-7f7431b805ef"
      },
      "execution_count": 8,
      "outputs": [
        {
          "output_type": "execute_result",
          "data": {
            "text/plain": [
              "PromptTemplate(input_variables=['language', 'subject'], template='Explain briefly about {subject} in {language}.')"
            ]
          },
          "metadata": {},
          "execution_count": 8
        }
      ]
    },
    {
      "cell_type": "code",
      "source": [
        "inputs = [\n",
        "      (\"Machine Learning\", \"English\"),\n",
        "      (\"Deep Learning\", \"Spanish\"),\n",
        "      (\"Artificial Intelligence\", \"Hindi\")\n",
        "  ]"
      ],
      "metadata": {
        "id": "jSun5Wr7gOMh"
      },
      "execution_count": 16,
      "outputs": []
    },
    {
      "cell_type": "code",
      "source": [
        "prompts = [\n",
        "              prompt_template.format(\n",
        "                  subject=subject, language=language\n",
        "              ) for subject, language in inputs\n",
        "          ]"
      ],
      "metadata": {
        "id": "6vy81ZhZggJ2"
      },
      "execution_count": 17,
      "outputs": []
    },
    {
      "cell_type": "code",
      "source": [
        "prompts"
      ],
      "metadata": {
        "colab": {
          "base_uri": "https://localhost:8080/"
        },
        "id": "VVN7_SlphAAD",
        "outputId": "7b33d33c-1ad3-4d5d-a745-9d873de8bac1"
      },
      "execution_count": 18,
      "outputs": [
        {
          "output_type": "execute_result",
          "data": {
            "text/plain": [
              "['Explain briefly about Machine Learning in English.',\n",
              " 'Explain briefly about Deep Learning in Spanish.',\n",
              " 'Explain briefly about Artificial Intelligence in Hindi.']"
            ]
          },
          "metadata": {},
          "execution_count": 18
        }
      ]
    },
    {
      "cell_type": "code",
      "source": [
        "# use map function to run on multiple prompts in one go\n",
        "responses = llm.map().invoke(prompts)\n",
        "responses"
      ],
      "metadata": {
        "colab": {
          "base_uri": "https://localhost:8080/"
        },
        "id": "1rAD1LeFhNUc",
        "outputId": "5e590bca-c931-4b18-9445-3534bad47c86"
      },
      "execution_count": 19,
      "outputs": [
        {
          "output_type": "execute_result",
          "data": {
            "text/plain": [
              "[AIMessage(content='Machine learning is a type of artificial intelligence that allows computers to learn and improve from experience without being explicitly programmed. It involves algorithms that analyze and interpret data to make predictions or decisions. Machine learning is used in a wide range of applications, such as image and speech recognition, recommendation systems, and autonomous vehicles.', response_metadata={'token_usage': {'completion_tokens': 61, 'prompt_tokens': 16, 'total_tokens': 77}, 'model_name': 'gpt-3.5-turbo', 'system_fingerprint': None, 'finish_reason': 'stop', 'logprobs': None}, id='run-5652374e-85dc-4d5c-9fd7-274e30c8f504-0'),\n",
              " AIMessage(content='El aprendizaje profundo, también conocido como deep learning, es una rama del aprendizaje automático que se basa en redes neuronales artificiales para imitar el funcionamiento del cerebro humano y aprender a partir de grandes cantidades de datos. Estas redes neuronales tienen múltiples capas de procesamiento que les permiten extraer características complejas de los datos y realizar tareas como reconocimiento de voz, visión por computadora, procesamiento del lenguaje natural, entre otros. El aprendizaje profundo ha demostrado ser muy efectivo en una amplia variedad de aplicaciones y está en constante evolución con nuevos avances y desarrollos en el campo de la inteligencia artificial.', response_metadata={'token_usage': {'completion_tokens': 156, 'prompt_tokens': 16, 'total_tokens': 172}, 'model_name': 'gpt-3.5-turbo', 'system_fingerprint': None, 'finish_reason': 'stop', 'logprobs': None}, id='run-0505fa92-3b8d-4473-b742-d85bd25c7ea9-0'),\n",
              " AIMessage(content='कृत्रिम बुद्धिमत्ता एक शाखा है जो कंप्यूटर और मशीनों को मानव बुद्धिमत्ता की तरह काम करने की क्षमता प्रदान करती है। यह तकनीकी उन्नति का एक महत्वपूर्ण क्षेत्र है जिसमें कंप्यूटर और रोबोट को आत्म-संज्ञान, सोचने, सीखने और समस्याओं का समाधान करने की क्षमता प्राप्त होती है। इसका उद्देश्य है कि मशीनें मानवों की सहायता करें और उनके लिए कार्य सरल और आसान बनाएं।', response_metadata={'token_usage': {'completion_tokens': 338, 'prompt_tokens': 16, 'total_tokens': 354}, 'model_name': 'gpt-3.5-turbo', 'system_fingerprint': None, 'finish_reason': 'stop', 'logprobs': None}, id='run-86d3e75f-0852-4b99-94c8-5a2327538429-0')]"
            ]
          },
          "metadata": {},
          "execution_count": 19
        }
      ]
    },
    {
      "cell_type": "code",
      "source": [
        "for response in responses:\n",
        "  print(response.content)\n",
        "  print()"
      ],
      "metadata": {
        "colab": {
          "base_uri": "https://localhost:8080/"
        },
        "id": "1CY7pfhJheQS",
        "outputId": "7c383ef6-22d6-4489-ee3a-92d4ca034943"
      },
      "execution_count": 20,
      "outputs": [
        {
          "output_type": "stream",
          "name": "stdout",
          "text": [
            "Machine learning is a type of artificial intelligence that allows computers to learn and improve from experience without being explicitly programmed. It involves algorithms that analyze and interpret data to make predictions or decisions. Machine learning is used in a wide range of applications, such as image and speech recognition, recommendation systems, and autonomous vehicles.\n",
            "\n",
            "El aprendizaje profundo, también conocido como deep learning, es una rama del aprendizaje automático que se basa en redes neuronales artificiales para imitar el funcionamiento del cerebro humano y aprender a partir de grandes cantidades de datos. Estas redes neuronales tienen múltiples capas de procesamiento que les permiten extraer características complejas de los datos y realizar tareas como reconocimiento de voz, visión por computadora, procesamiento del lenguaje natural, entre otros. El aprendizaje profundo ha demostrado ser muy efectivo en una amplia variedad de aplicaciones y está en constante evolución con nuevos avances y desarrollos en el campo de la inteligencia artificial.\n",
            "\n",
            "कृत्रिम बुद्धिमत्ता एक शाखा है जो कंप्यूटर और मशीनों को मानव बुद्धिमत्ता की तरह काम करने की क्षमता प्रदान करती है। यह तकनीकी उन्नति का एक महत्वपूर्ण क्षेत्र है जिसमें कंप्यूटर और रोबोट को आत्म-संज्ञान, सोचने, सीखने और समस्याओं का समाधान करने की क्षमता प्राप्त होती है। इसका उद्देश्य है कि मशीनें मानवों की सहायता करें और उनके लिए कार्य सरल और आसान बनाएं।\n",
            "\n"
          ]
        }
      ]
    },
    {
      "cell_type": "markdown",
      "source": [
        "### ChatPromptTemplate\n",
        "\n",
        "\n",
        "The standard prompt format for chat models involves a list of chat messages. Each message contains content and an additional parameter called `role`.\n",
        "\n",
        "For instance, in the OpenAI Chat Completions API, a chat message can be assigned roles such as AI assistant, human, or system."
      ],
      "metadata": {
        "id": "cAKCM5d_hzsR"
      }
    },
    {
      "cell_type": "markdown",
      "source": [
        "simple prompt with placeholder"
      ],
      "metadata": {
        "id": "HRYHlsnBiGTl"
      }
    },
    {
      "cell_type": "code",
      "source": [
        "from langchain_core.prompts import ChatPromptTemplate\n",
        "\n",
        "prompt = \"\"\"Explain briefly about {topic}.\"\"\"\n",
        "chat_template = ChatPromptTemplate.from_template(prompt)\n",
        "chat_template"
      ],
      "metadata": {
        "colab": {
          "base_uri": "https://localhost:8080/"
        },
        "id": "ID3NRSIXhon7",
        "outputId": "3f540d32-5e18-477c-ba6b-33f031a57b46"
      },
      "execution_count": 21,
      "outputs": [
        {
          "output_type": "execute_result",
          "data": {
            "text/plain": [
              "ChatPromptTemplate(input_variables=['topic'], messages=[HumanMessagePromptTemplate(prompt=PromptTemplate(input_variables=['topic'], template='Explain briefly about {topic}.'))])"
            ]
          },
          "metadata": {},
          "execution_count": 21
        }
      ]
    },
    {
      "cell_type": "code",
      "source": [
        "topics = ['Dividend in stock market', 'Equity income', 'Profit margin']\n",
        "prompts = [chat_template.format(topic = topic) for topic in topics]\n",
        "prompts"
      ],
      "metadata": {
        "colab": {
          "base_uri": "https://localhost:8080/"
        },
        "id": "rgk7MtPEiYtN",
        "outputId": "5945039d-4058-490c-81e0-3729ab7b0cae"
      },
      "execution_count": 24,
      "outputs": [
        {
          "output_type": "execute_result",
          "data": {
            "text/plain": [
              "['Human: Explain briefly about Dividend in stock market.',\n",
              " 'Human: Explain briefly about Equity income.',\n",
              " 'Human: Explain briefly about Profit margin.']"
            ]
          },
          "metadata": {},
          "execution_count": 24
        }
      ]
    },
    {
      "cell_type": "code",
      "source": [
        "responses = llm.map().invoke(prompts)\n",
        "responses"
      ],
      "metadata": {
        "colab": {
          "base_uri": "https://localhost:8080/"
        },
        "id": "NTkUuZyqiuc_",
        "outputId": "2c0e554c-e185-4c13-b533-cb376bdfca5a"
      },
      "execution_count": 25,
      "outputs": [
        {
          "output_type": "execute_result",
          "data": {
            "text/plain": [
              "[AIMessage(content=\"Dividend is a portion of a company's profits that is distributed to its shareholders. It is usually paid out on a regular basis, such as quarterly or annually, and is typically in the form of cash or additional shares of stock. Dividends are a way for companies to reward their shareholders for investing in the company and can provide a steady income stream for investors. The amount of dividend paid out is determined by the company's board of directors and can vary based on the company's financial performance and overall strategy.\", response_metadata={'token_usage': {'completion_tokens': 103, 'prompt_tokens': 18, 'total_tokens': 121}, 'model_name': 'gpt-3.5-turbo', 'system_fingerprint': None, 'finish_reason': 'stop', 'logprobs': None}, id='run-1350eed0-e644-4fb5-a943-e456e525e865-0'),\n",
              " AIMessage(content=\"Equity income refers to the portion of a company's profit that is distributed to shareholders in the form of dividends. This income is derived from the company's ownership of stocks or equity investments in other companies. It is a source of passive income for investors and can provide a steady stream of cash flow. Equity income can be a key component of a diversified investment portfolio, providing both income and potential for capital appreciation.\", response_metadata={'token_usage': {'completion_tokens': 82, 'prompt_tokens': 15, 'total_tokens': 97}, 'model_name': 'gpt-3.5-turbo', 'system_fingerprint': None, 'finish_reason': 'stop', 'logprobs': None}, id='run-49cd3ceb-0fea-46d4-9868-c15193cd51e4-0'),\n",
              " AIMessage(content=\"Profit margin is a financial metric that measures the profitability of a company by calculating the percentage of revenue that exceeds the company's costs. It is calculated by dividing the company's net income by its total revenue and multiplying the result by 100 to get a percentage. A higher profit margin indicates that a company is more efficient at generating profits from its revenue.\", response_metadata={'token_usage': {'completion_tokens': 70, 'prompt_tokens': 15, 'total_tokens': 85}, 'model_name': 'gpt-3.5-turbo', 'system_fingerprint': None, 'finish_reason': 'stop', 'logprobs': None}, id='run-ea8ee476-624e-4f1f-8016-6470c79b6c10-0')]"
            ]
          },
          "metadata": {},
          "execution_count": 25
        }
      ]
    },
    {
      "cell_type": "code",
      "source": [
        "for response in responses:\n",
        "  print(response.content)\n",
        "  print()"
      ],
      "metadata": {
        "colab": {
          "base_uri": "https://localhost:8080/"
        },
        "id": "1pe_zBYNi21w",
        "outputId": "95606a77-3b8b-4628-fe3b-60e21a4ec252"
      },
      "execution_count": 27,
      "outputs": [
        {
          "output_type": "stream",
          "name": "stdout",
          "text": [
            "Dividend is a portion of a company's profits that is distributed to its shareholders. It is usually paid out on a regular basis, such as quarterly or annually, and is typically in the form of cash or additional shares of stock. Dividends are a way for companies to reward their shareholders for investing in the company and can provide a steady income stream for investors. The amount of dividend paid out is determined by the company's board of directors and can vary based on the company's financial performance and overall strategy.\n",
            "\n",
            "Equity income refers to the portion of a company's profit that is distributed to shareholders in the form of dividends. This income is derived from the company's ownership of stocks or equity investments in other companies. It is a source of passive income for investors and can provide a steady stream of cash flow. Equity income can be a key component of a diversified investment portfolio, providing both income and potential for capital appreciation.\n",
            "\n",
            "Profit margin is a financial metric that measures the profitability of a company by calculating the percentage of revenue that exceeds the company's costs. It is calculated by dividing the company's net income by its total revenue and multiplying the result by 100 to get a percentage. A higher profit margin indicates that a company is more efficient at generating profits from its revenue.\n",
            "\n"
          ]
        }
      ]
    },
    {
      "cell_type": "code",
      "source": [
        "responses[0]"
      ],
      "metadata": {
        "colab": {
          "base_uri": "https://localhost:8080/"
        },
        "id": "YBVW1uH_jZW5",
        "outputId": "4caf3133-7b69-490e-fca4-e14f1be33e9a"
      },
      "execution_count": 28,
      "outputs": [
        {
          "output_type": "execute_result",
          "data": {
            "text/plain": [
              "AIMessage(content=\"Dividend is a portion of a company's profits that is distributed to its shareholders. It is usually paid out on a regular basis, such as quarterly or annually, and is typically in the form of cash or additional shares of stock. Dividends are a way for companies to reward their shareholders for investing in the company and can provide a steady income stream for investors. The amount of dividend paid out is determined by the company's board of directors and can vary based on the company's financial performance and overall strategy.\", response_metadata={'token_usage': {'completion_tokens': 103, 'prompt_tokens': 18, 'total_tokens': 121}, 'model_name': 'gpt-3.5-turbo', 'system_fingerprint': None, 'finish_reason': 'stop', 'logprobs': None}, id='run-1350eed0-e644-4fb5-a943-e456e525e865-0')"
            ]
          },
          "metadata": {},
          "execution_count": 28
        }
      ]
    },
    {
      "cell_type": "markdown",
      "source": [
        "More complex prompt with series of messages"
      ],
      "metadata": {
        "id": "mk7l0STvjiSh"
      }
    },
    {
      "cell_type": "code",
      "source": [
        "messages = [\n",
        "        (\"system\", \"Act as an expert in cloud computing and provide brief answers\"),\n",
        "        (\"human\", \"What is your name?\"),\n",
        "        (\"ai\", \"My name is AIbot\"),\n",
        "        (\"human\", \"{user_prompt}\")\n",
        "    ]\n",
        "\n",
        "chat_template = ChatPromptTemplate.from_messages(messages)\n",
        "chat_template"
      ],
      "metadata": {
        "colab": {
          "base_uri": "https://localhost:8080/"
        },
        "id": "R6W6h5lFjfKL",
        "outputId": "a12630b2-4cab-4d01-913e-6f4686f296bc"
      },
      "execution_count": 29,
      "outputs": [
        {
          "output_type": "execute_result",
          "data": {
            "text/plain": [
              "ChatPromptTemplate(input_variables=['user_prompt'], messages=[SystemMessagePromptTemplate(prompt=PromptTemplate(input_variables=[], template='Act as an expert in cloud computing and provide brief answers')), HumanMessagePromptTemplate(prompt=PromptTemplate(input_variables=[], template='What is your name?')), AIMessagePromptTemplate(prompt=PromptTemplate(input_variables=[], template='My name is AIbot')), HumanMessagePromptTemplate(prompt=PromptTemplate(input_variables=['user_prompt'], template='{user_prompt}'))])"
            ]
          },
          "metadata": {},
          "execution_count": 29
        }
      ]
    },
    {
      "cell_type": "code",
      "source": [
        "text_prompts = [\n",
        "        \"what is your name?\",\n",
        "        \"Can you explain to me what is cloud computing?\"\n",
        "      ]\n",
        "\n",
        "chat_prompts = [chat_template.format(user_prompt = prompt) for prompt in text_prompts]\n",
        "chat_prompts"
      ],
      "metadata": {
        "colab": {
          "base_uri": "https://localhost:8080/"
        },
        "id": "PwWDU6hvkHTC",
        "outputId": "677b6d86-b645-40e4-c979-cff80d084b49"
      },
      "execution_count": 30,
      "outputs": [
        {
          "output_type": "execute_result",
          "data": {
            "text/plain": [
              "['System: Act as an expert in cloud computing and provide brief answers\\nHuman: What is your name?\\nAI: My name is AIbot\\nHuman: what is your name?',\n",
              " 'System: Act as an expert in cloud computing and provide brief answers\\nHuman: What is your name?\\nAI: My name is AIbot\\nHuman: Can you explain to me what is cloud computing?']"
            ]
          },
          "metadata": {},
          "execution_count": 30
        }
      ]
    },
    {
      "cell_type": "code",
      "source": [
        "print(chat_prompts[0])"
      ],
      "metadata": {
        "colab": {
          "base_uri": "https://localhost:8080/"
        },
        "id": "xcgVklsAlYP2",
        "outputId": "2b485d93-eff0-49fc-986a-1dfbf7449c88"
      },
      "execution_count": 31,
      "outputs": [
        {
          "output_type": "stream",
          "name": "stdout",
          "text": [
            "System: Act as an expert in cloud computing and provide brief answers\n",
            "Human: What is your name?\n",
            "AI: My name is AIbot\n",
            "Human: what is your name?\n"
          ]
        }
      ]
    },
    {
      "cell_type": "code",
      "source": [
        "print(chat_prompts[1])"
      ],
      "metadata": {
        "colab": {
          "base_uri": "https://localhost:8080/"
        },
        "id": "3jYtbGJHleAM",
        "outputId": "8b60827e-1604-416f-ccd9-4b80fbda7c7b"
      },
      "execution_count": 32,
      "outputs": [
        {
          "output_type": "stream",
          "name": "stdout",
          "text": [
            "System: Act as an expert in cloud computing and provide brief answers\n",
            "Human: What is your name?\n",
            "AI: My name is AIbot\n",
            "Human: Can you explain to me what is cloud computing?\n"
          ]
        }
      ]
    },
    {
      "cell_type": "code",
      "source": [
        "responses = llm.map().invoke(chat_prompts)\n",
        "\n",
        "for response in responses:\n",
        "  print(response.content)\n",
        "  print()"
      ],
      "metadata": {
        "colab": {
          "base_uri": "https://localhost:8080/"
        },
        "id": "aH_EP3mLlhF_",
        "outputId": "6cd6af5f-e4f0-43cc-a063-4348c450df14"
      },
      "execution_count": 33,
      "outputs": [
        {
          "output_type": "stream",
          "name": "stdout",
          "text": [
            "AI: My name is AIbot\n",
            "\n",
            "AI: Cloud computing is the delivery of computing services such as servers, storage, databases, networking, software, and analytics over the internet (the cloud) to offer faster innovation, flexible resources, and economies of scale.\n",
            "\n"
          ]
        }
      ]
    },
    {
      "cell_type": "code",
      "source": [
        "messages = [\n",
        "        (\"system\", \"Act as an expert in cloud computing and provide very detailed answers with suitable examples\"),\n",
        "        (\"human\", \"What is your name?\"),\n",
        "        (\"ai\", \"My name is AIbot\"),\n",
        "        (\"human\", \"{user_prompt}\")\n",
        "    ]\n",
        "\n",
        "chat_template = ChatPromptTemplate.from_messages(messages)\n",
        "chat_template"
      ],
      "metadata": {
        "colab": {
          "base_uri": "https://localhost:8080/"
        },
        "id": "zAPpT-tClv6-",
        "outputId": "48d29ea1-ad62-4116-84c1-361b4c1ecb30"
      },
      "execution_count": 37,
      "outputs": [
        {
          "output_type": "execute_result",
          "data": {
            "text/plain": [
              "ChatPromptTemplate(input_variables=['user_prompt'], messages=[SystemMessagePromptTemplate(prompt=PromptTemplate(input_variables=[], template='Act as an expert in cloud computing and provide very detailed answers with suitable examples')), HumanMessagePromptTemplate(prompt=PromptTemplate(input_variables=[], template='What is your name?')), AIMessagePromptTemplate(prompt=PromptTemplate(input_variables=[], template='My name is AIbot')), HumanMessagePromptTemplate(prompt=PromptTemplate(input_variables=['user_prompt'], template='{user_prompt}'))])"
            ]
          },
          "metadata": {},
          "execution_count": 37
        }
      ]
    },
    {
      "cell_type": "code",
      "source": [
        "text_prompts = [\n",
        "        \"what is your name?\",\n",
        "        \"Can you explain to me what is cloud computing?\"\n",
        "      ]\n",
        "\n",
        "chat_prompts = [chat_template.format(user_prompt = prompt) for prompt in text_prompts]\n",
        "chat_prompts"
      ],
      "metadata": {
        "colab": {
          "base_uri": "https://localhost:8080/"
        },
        "id": "1yIRw0oXmIGj",
        "outputId": "7d97c76b-33c9-48e0-e99c-9d93ea26f3d5"
      },
      "execution_count": 38,
      "outputs": [
        {
          "output_type": "execute_result",
          "data": {
            "text/plain": [
              "['System: Act as an expert in cloud computing and provide very detailed answers with suitable examples\\nHuman: What is your name?\\nAI: My name is AIbot\\nHuman: what is your name?',\n",
              " 'System: Act as an expert in cloud computing and provide very detailed answers with suitable examples\\nHuman: What is your name?\\nAI: My name is AIbot\\nHuman: Can you explain to me what is cloud computing?']"
            ]
          },
          "metadata": {},
          "execution_count": 38
        }
      ]
    },
    {
      "cell_type": "code",
      "source": [
        "responses = llm.map().invoke(chat_prompts)\n",
        "\n",
        "for response in responses:\n",
        "  print(response.content)\n",
        "  print(\"--------------------------------------------------\")"
      ],
      "metadata": {
        "colab": {
          "base_uri": "https://localhost:8080/"
        },
        "id": "ylcBk1PtmLHB",
        "outputId": "15aa5c8f-4018-43c8-bf1b-24058797836c"
      },
      "execution_count": 39,
      "outputs": [
        {
          "output_type": "stream",
          "name": "stdout",
          "text": [
            "AI: My name is AIbot.\n",
            "--------------------------------------------------\n",
            "AI: Cloud computing is the delivery of computing services over the internet, allowing users to access and store data, run applications, and utilize resources on remote servers rather than on their local devices. This technology enables users to access their data and applications from anywhere with an internet connection, providing flexibility, scalability, and cost-effectiveness.\n",
            "\n",
            "There are three main types of cloud computing services: Infrastructure as a Service (IaaS), Platform as a Service (PaaS), and Software as a Service (SaaS). \n",
            "\n",
            "- IaaS provides virtualized computing resources over the internet, such as virtual machines, storage, and networking. Examples of IaaS providers include Amazon Web Services (AWS), Microsoft Azure, and Google Cloud Platform.\n",
            "\n",
            "- PaaS offers a platform for developers to build, deploy, and manage applications without having to worry about the underlying infrastructure. Examples of PaaS providers include Heroku, Google App Engine, and Microsoft Azure App Service.\n",
            "\n",
            "- SaaS delivers software applications over the internet on a subscription basis, eliminating the need for users to install and maintain software on their devices. Examples of SaaS applications include Google Workspace, Microsoft 365, and Salesforce.\n",
            "\n",
            "Overall, cloud computing provides businesses and individuals with the ability to access powerful computing resources on-demand, without the need for significant upfront investments in hardware and infrastructure.\n",
            "--------------------------------------------------\n"
          ]
        }
      ]
    },
    {
      "cell_type": "markdown",
      "source": [
        "### PromptTemplate and ChatPromptTemplate supports LangChain Expression Language (LCEL)"
      ],
      "metadata": {
        "id": "P2aqwziuruoL"
      }
    },
    {
      "cell_type": "code",
      "source": [
        "text_prompts = [\n",
        "        \"what is your name?\",\n",
        "        \"Can you explain to me what is cloud computing?\"\n",
        "      ]\n",
        "\n",
        "chat_prompts = [chat_template.invoke({\"user_prompt\" : prompt}) for prompt in text_prompts]\n",
        "chat_prompts"
      ],
      "metadata": {
        "colab": {
          "base_uri": "https://localhost:8080/"
        },
        "id": "QBYZkaxxmRtu",
        "outputId": "d9ce60a4-8841-4abd-b547-6edf3b88ad32"
      },
      "execution_count": 40,
      "outputs": [
        {
          "output_type": "execute_result",
          "data": {
            "text/plain": [
              "[ChatPromptValue(messages=[SystemMessage(content='Act as an expert in cloud computing and provide very detailed answers with suitable examples'), HumanMessage(content='What is your name?'), AIMessage(content='My name is AIbot'), HumanMessage(content='what is your name?')]),\n",
              " ChatPromptValue(messages=[SystemMessage(content='Act as an expert in cloud computing and provide very detailed answers with suitable examples'), HumanMessage(content='What is your name?'), AIMessage(content='My name is AIbot'), HumanMessage(content='Can you explain to me what is cloud computing?')])]"
            ]
          },
          "metadata": {},
          "execution_count": 40
        }
      ]
    },
    {
      "cell_type": "code",
      "source": [
        "chat_prompts[1]"
      ],
      "metadata": {
        "colab": {
          "base_uri": "https://localhost:8080/"
        },
        "id": "pqbtHQaXsHpf",
        "outputId": "f0b579d0-89cc-42f4-f8bc-098ab4eacf70"
      },
      "execution_count": 41,
      "outputs": [
        {
          "output_type": "execute_result",
          "data": {
            "text/plain": [
              "ChatPromptValue(messages=[SystemMessage(content='Act as an expert in cloud computing and provide very detailed answers with suitable examples'), HumanMessage(content='What is your name?'), AIMessage(content='My name is AIbot'), HumanMessage(content='Can you explain to me what is cloud computing?')])"
            ]
          },
          "metadata": {},
          "execution_count": 41
        }
      ]
    },
    {
      "cell_type": "code",
      "source": [
        "print(chat_prompts[1].to_string())"
      ],
      "metadata": {
        "colab": {
          "base_uri": "https://localhost:8080/"
        },
        "id": "BPxJeYiusL_M",
        "outputId": "7db3f05d-1744-4e86-d708-9b36e5b69305"
      },
      "execution_count": 42,
      "outputs": [
        {
          "output_type": "stream",
          "name": "stdout",
          "text": [
            "System: Act as an expert in cloud computing and provide very detailed answers with suitable examples\n",
            "Human: What is your name?\n",
            "AI: My name is AIbot\n",
            "Human: Can you explain to me what is cloud computing?\n"
          ]
        }
      ]
    },
    {
      "cell_type": "code",
      "source": [
        "chat_prompts[1].to_messages()"
      ],
      "metadata": {
        "colab": {
          "base_uri": "https://localhost:8080/"
        },
        "id": "8wJOwIhtsQ5k",
        "outputId": "7bd01e9f-427e-4b7e-e603-ef3ea9d67fd7"
      },
      "execution_count": 43,
      "outputs": [
        {
          "output_type": "execute_result",
          "data": {
            "text/plain": [
              "[SystemMessage(content='Act as an expert in cloud computing and provide very detailed answers with suitable examples'),\n",
              " HumanMessage(content='What is your name?'),\n",
              " AIMessage(content='My name is AIbot'),\n",
              " HumanMessage(content='Can you explain to me what is cloud computing?')]"
            ]
          },
          "metadata": {},
          "execution_count": 43
        }
      ]
    },
    {
      "cell_type": "code",
      "source": [
        "responses = llm.map().invoke(chat_prompts)\n",
        "\n",
        "for response in responses:\n",
        "  print(response.content)\n",
        "  print(\"--------------------------------------------------\")"
      ],
      "metadata": {
        "colab": {
          "base_uri": "https://localhost:8080/"
        },
        "id": "8UwegBXTsZV5",
        "outputId": "c0c1894d-6543-4694-d9ac-300646032146"
      },
      "execution_count": 44,
      "outputs": [
        {
          "output_type": "stream",
          "name": "stdout",
          "text": [
            "My name is AIbot\n",
            "--------------------------------------------------\n",
            "Cloud computing is the delivery of computing services over the internet, allowing users to access and use resources such as servers, storage, databases, networking, software, and analytics on a pay-as-you-go basis. Instead of owning and maintaining physical servers or infrastructure, users can leverage cloud service providers' resources to scale their operations quickly and efficiently.\n",
            "\n",
            "There are three main types of cloud computing services:\n",
            "\n",
            "1. Infrastructure as a Service (IaaS): Provides virtualized computing resources over the internet, such as virtual machines, storage, and networking. Users can deploy and manage their applications on these virtualized resources without worrying about the underlying infrastructure.\n",
            "\n",
            "2. Platform as a Service (PaaS): Offers a platform for developers to build, deploy, and manage applications without having to worry about the underlying infrastructure. PaaS providers offer tools and services to streamline the development process.\n",
            "\n",
            "3. Software as a Service (SaaS): Delivers software applications over the internet on a subscription basis. Users can access these applications through a web browser without needing to install or maintain the software locally.\n",
            "\n",
            "Cloud computing offers several benefits, including scalability, flexibility, cost-effectiveness, and improved collaboration. For example, a company can quickly scale its infrastructure to handle increased demand during peak times without investing in additional hardware. Additionally, cloud services enable remote teams to collaborate effectively by providing access to shared resources from anywhere with an internet connection.\n",
            "--------------------------------------------------\n"
          ]
        }
      ]
    },
    {
      "cell_type": "markdown",
      "source": [
        "### FewShotChatMessagePromptTemplate\n",
        "\n",
        "This Chat prompt template supports few-shot examples by structuring conversations into lists of messages. It includes prefix messages, example messages, and suffix messages.\n",
        "\n",
        "This template allows for interactions like:\n",
        "\n",
        "```\n",
        "System: You are a helpful AI Assistant\n",
        "Human: What is 3+3?\n",
        "AI: 6\n",
        "Human: What is 5*3?\n",
        "AI: 15\n",
        "Human: What is 4-1?\n",
        "```"
      ],
      "metadata": {
        "id": "YpsLGK-1si0g"
      }
    },
    {
      "cell_type": "markdown",
      "source": [
        "Define the few-shot examples you would like to include."
      ],
      "metadata": {
        "id": "ijAculUQtBAR"
      }
    },
    {
      "cell_type": "code",
      "source": [
        "from langchain_core.prompts import ChatPromptTemplate, FewShotChatMessagePromptTemplate"
      ],
      "metadata": {
        "id": "7L-NkT76seVO"
      },
      "execution_count": 46,
      "outputs": []
    },
    {
      "cell_type": "code",
      "source": [
        "example_data = [\n",
        "    (\"\"\"England and Spain have both secured their places in the Euro 2024 final, with standout performances from players like Ollie Watkins and Lamine Yamal.\n",
        "    Meanwhile, India has qualified for the WCL semi-finals despite a loss to South Africa, and Lionel Messi continues to shine as Argentina reaches the Copa America final.\"\"\", 'Sports'),\n",
        "    (\"\"\"A new study has revealed insights into Saturn's planet-wide storms, and India has announced plans to mandate USB-C as a common charger standard from June 2025​ (shortpedia)​.\n",
        "    Additionally, scientists have developed self-healing polymers using waste materials, showing promising advancements in sustainable materials.\"\"\", 'Technology'),\n",
        "    (\"\"\"The RBI is working with ASEAN to create a platform for fast cross-border retail payments, and SBI has raised ₹10,000 crore through 15-year infrastructure bonds.\n",
        "    Furthermore, the International Toy Fair is set to begin with participation from over 100 foreign buyers​.\"\"\", 'Business'),\n",
        "    (\"\"\"MIT researchers have developed a new air safety system called Air-Guardian, which functions as a proactive co-pilot to enhance safety during critical flight moments.\n",
        "    Additionally, a new surgical procedure and neuroprosthetic interface from MIT allows individuals with amputations to control their prosthetic limbs with their brains, offering smoother gait and better navigation of obstacles​.\"\"\", 'Technology')\n",
        "]\n",
        "\n",
        "example_data"
      ],
      "metadata": {
        "colab": {
          "base_uri": "https://localhost:8080/"
        },
        "id": "nP3b5U3usua2",
        "outputId": "b21b876e-3e67-4b2b-f287-17fa33c4ee6d"
      },
      "execution_count": 55,
      "outputs": [
        {
          "output_type": "execute_result",
          "data": {
            "text/plain": [
              "[('England and Spain have both secured their places in the Euro 2024 final, with standout performances from players like Ollie Watkins and Lamine Yamal. \\n    Meanwhile, India has qualified for the WCL semi-finals despite a loss to South Africa, and Lionel Messi continues to shine as Argentina reaches the Copa America final.',\n",
              "  'Sports'),\n",
              " (\"A new study has revealed insights into Saturn's planet-wide storms, and India has announced plans to mandate USB-C as a common charger standard from June 2025\\u200b (shortpedia)\\u200b. \\n    Additionally, scientists have developed self-healing polymers using waste materials, showing promising advancements in sustainable materials.\",\n",
              "  'Technology'),\n",
              " ('The RBI is working with ASEAN to create a platform for fast cross-border retail payments, and SBI has raised ₹10,000 crore through 15-year infrastructure bonds.\\n    Furthermore, the International Toy Fair is set to begin with participation from over 100 foreign buyers\\u200b.',\n",
              "  'Business'),\n",
              " ('MIT researchers have developed a new air safety system called Air-Guardian, which functions as a proactive co-pilot to enhance safety during critical flight moments. \\n    Additionally, a new surgical procedure and neuroprosthetic interface from MIT allows individuals with amputations to control their prosthetic limbs with their brains, offering smoother gait and better navigation of obstacles\\u200b.',\n",
              "  'Technology')]"
            ]
          },
          "metadata": {},
          "execution_count": 55
        }
      ]
    },
    {
      "cell_type": "code",
      "source": [
        "example_data_formatted = [\n",
        "                              {\n",
        "                                  \"input\": input,\n",
        "                                  \"output\": output\n",
        "                              } for input, output in example_data\n",
        "                          ]\n",
        "\n",
        "example_data_formatted"
      ],
      "metadata": {
        "colab": {
          "base_uri": "https://localhost:8080/"
        },
        "id": "THtd29weufmV",
        "outputId": "248c2988-906a-49b6-d49a-cd1d08b67406"
      },
      "execution_count": 56,
      "outputs": [
        {
          "output_type": "execute_result",
          "data": {
            "text/plain": [
              "[{'input': 'England and Spain have both secured their places in the Euro 2024 final, with standout performances from players like Ollie Watkins and Lamine Yamal. \\n    Meanwhile, India has qualified for the WCL semi-finals despite a loss to South Africa, and Lionel Messi continues to shine as Argentina reaches the Copa America final.',\n",
              "  'output': 'Sports'},\n",
              " {'input': \"A new study has revealed insights into Saturn's planet-wide storms, and India has announced plans to mandate USB-C as a common charger standard from June 2025\\u200b (shortpedia)\\u200b. \\n    Additionally, scientists have developed self-healing polymers using waste materials, showing promising advancements in sustainable materials.\",\n",
              "  'output': 'Technology'},\n",
              " {'input': 'The RBI is working with ASEAN to create a platform for fast cross-border retail payments, and SBI has raised ₹10,000 crore through 15-year infrastructure bonds.\\n    Furthermore, the International Toy Fair is set to begin with participation from over 100 foreign buyers\\u200b.',\n",
              "  'output': 'Business'},\n",
              " {'input': 'MIT researchers have developed a new air safety system called Air-Guardian, which functions as a proactive co-pilot to enhance safety during critical flight moments. \\n    Additionally, a new surgical procedure and neuroprosthetic interface from MIT allows individuals with amputations to control their prosthetic limbs with their brains, offering smoother gait and better navigation of obstacles\\u200b.',\n",
              "  'output': 'Technology'}]"
            ]
          },
          "metadata": {},
          "execution_count": 56
        }
      ]
    },
    {
      "cell_type": "code",
      "source": [
        "# combine them into few-shot prompt template\n",
        "\n",
        "data_prompt = ChatPromptTemplate.from_messages(\n",
        "                                  [\n",
        "                                      (\"human\", \"{input}\"),\n",
        "                                      (\"ai\", \"{output}\")\n",
        "                                  ]\n",
        "                              )"
      ],
      "metadata": {
        "id": "KaPb6jM8u51v"
      },
      "execution_count": 57,
      "outputs": []
    },
    {
      "cell_type": "code",
      "source": [
        "few_shot_prompt = FewShotChatMessagePromptTemplate(\n",
        "    example_prompt=data_prompt,\n",
        "    examples=example_data_formatted\n",
        ")\n",
        "\n",
        "few_shot_prompt"
      ],
      "metadata": {
        "colab": {
          "base_uri": "https://localhost:8080/"
        },
        "id": "TdtYF4aOvXy1",
        "outputId": "6c9b2c19-dd3f-4194-d2c5-4cc40873b8e9"
      },
      "execution_count": 58,
      "outputs": [
        {
          "output_type": "execute_result",
          "data": {
            "text/plain": [
              "FewShotChatMessagePromptTemplate(examples=[{'input': 'England and Spain have both secured their places in the Euro 2024 final, with standout performances from players like Ollie Watkins and Lamine Yamal. \\n    Meanwhile, India has qualified for the WCL semi-finals despite a loss to South Africa, and Lionel Messi continues to shine as Argentina reaches the Copa America final.', 'output': 'Sports'}, {'input': \"A new study has revealed insights into Saturn's planet-wide storms, and India has announced plans to mandate USB-C as a common charger standard from June 2025\\u200b (shortpedia)\\u200b. \\n    Additionally, scientists have developed self-healing polymers using waste materials, showing promising advancements in sustainable materials.\", 'output': 'Technology'}, {'input': 'The RBI is working with ASEAN to create a platform for fast cross-border retail payments, and SBI has raised ₹10,000 crore through 15-year infrastructure bonds.\\n    Furthermore, the International Toy Fair is set to begin with participation from over 100 foreign buyers\\u200b.', 'output': 'Business'}, {'input': 'MIT researchers have developed a new air safety system called Air-Guardian, which functions as a proactive co-pilot to enhance safety during critical flight moments. \\n    Additionally, a new surgical procedure and neuroprosthetic interface from MIT allows individuals with amputations to control their prosthetic limbs with their brains, offering smoother gait and better navigation of obstacles\\u200b.', 'output': 'Technology'}], example_prompt=ChatPromptTemplate(input_variables=['input', 'output'], messages=[HumanMessagePromptTemplate(prompt=PromptTemplate(input_variables=['input'], template='{input}')), AIMessagePromptTemplate(prompt=PromptTemplate(input_variables=['output'], template='{output}'))]))"
            ]
          },
          "metadata": {},
          "execution_count": 58
        }
      ]
    },
    {
      "cell_type": "code",
      "source": [
        "print(few_shot_prompt.format())"
      ],
      "metadata": {
        "colab": {
          "base_uri": "https://localhost:8080/"
        },
        "id": "xbb-5OQZvlAN",
        "outputId": "ac72b963-37c1-479c-e3b2-89783ae1be3d"
      },
      "execution_count": 59,
      "outputs": [
        {
          "output_type": "stream",
          "name": "stdout",
          "text": [
            "Human: England and Spain have both secured their places in the Euro 2024 final, with standout performances from players like Ollie Watkins and Lamine Yamal. \n",
            "    Meanwhile, India has qualified for the WCL semi-finals despite a loss to South Africa, and Lionel Messi continues to shine as Argentina reaches the Copa America final.\n",
            "AI: Sports\n",
            "Human: A new study has revealed insights into Saturn's planet-wide storms, and India has announced plans to mandate USB-C as a common charger standard from June 2025​ (shortpedia)​. \n",
            "    Additionally, scientists have developed self-healing polymers using waste materials, showing promising advancements in sustainable materials.\n",
            "AI: Technology\n",
            "Human: The RBI is working with ASEAN to create a platform for fast cross-border retail payments, and SBI has raised ₹10,000 crore through 15-year infrastructure bonds.\n",
            "    Furthermore, the International Toy Fair is set to begin with participation from over 100 foreign buyers​.\n",
            "AI: Business\n",
            "Human: MIT researchers have developed a new air safety system called Air-Guardian, which functions as a proactive co-pilot to enhance safety during critical flight moments. \n",
            "    Additionally, a new surgical procedure and neuroprosthetic interface from MIT allows individuals with amputations to control their prosthetic limbs with their brains, offering smoother gait and better navigation of obstacles​.\n",
            "AI: Technology\n"
          ]
        }
      ]
    },
    {
      "cell_type": "code",
      "source": [
        "# Now, add final prompt and provide it to LLM\n",
        "\n",
        "final_prompt_template = ChatPromptTemplate.from_messages(\n",
        "    [\n",
        "        (\"system\", \"Classify each news article using the following format\"),\n",
        "        few_shot_prompt,\n",
        "        (\"human\", \"{input}\")\n",
        "    ]\n",
        ")\n",
        "\n",
        "final_prompt_template"
      ],
      "metadata": {
        "colab": {
          "base_uri": "https://localhost:8080/"
        },
        "id": "T5Z_9ztuvtEn",
        "outputId": "a22889e2-1ac8-4c93-d088-34b1c8184c5d"
      },
      "execution_count": 60,
      "outputs": [
        {
          "output_type": "execute_result",
          "data": {
            "text/plain": [
              "ChatPromptTemplate(input_variables=['input'], messages=[SystemMessagePromptTemplate(prompt=PromptTemplate(input_variables=[], template='Classify each news article using the following format')), FewShotChatMessagePromptTemplate(examples=[{'input': 'England and Spain have both secured their places in the Euro 2024 final, with standout performances from players like Ollie Watkins and Lamine Yamal. \\n    Meanwhile, India has qualified for the WCL semi-finals despite a loss to South Africa, and Lionel Messi continues to shine as Argentina reaches the Copa America final.', 'output': 'Sports'}, {'input': \"A new study has revealed insights into Saturn's planet-wide storms, and India has announced plans to mandate USB-C as a common charger standard from June 2025\\u200b (shortpedia)\\u200b. \\n    Additionally, scientists have developed self-healing polymers using waste materials, showing promising advancements in sustainable materials.\", 'output': 'Technology'}, {'input': 'The RBI is working with ASEAN to create a platform for fast cross-border retail payments, and SBI has raised ₹10,000 crore through 15-year infrastructure bonds.\\n    Furthermore, the International Toy Fair is set to begin with participation from over 100 foreign buyers\\u200b.', 'output': 'Business'}, {'input': 'MIT researchers have developed a new air safety system called Air-Guardian, which functions as a proactive co-pilot to enhance safety during critical flight moments. \\n    Additionally, a new surgical procedure and neuroprosthetic interface from MIT allows individuals with amputations to control their prosthetic limbs with their brains, offering smoother gait and better navigation of obstacles\\u200b.', 'output': 'Technology'}], example_prompt=ChatPromptTemplate(input_variables=['input', 'output'], messages=[HumanMessagePromptTemplate(prompt=PromptTemplate(input_variables=['input'], template='{input}')), AIMessagePromptTemplate(prompt=PromptTemplate(input_variables=['output'], template='{output}'))])), HumanMessagePromptTemplate(prompt=PromptTemplate(input_variables=['input'], template='{input}'))])"
            ]
          },
          "metadata": {},
          "execution_count": 60
        }
      ]
    },
    {
      "cell_type": "code",
      "source": [
        "docs = [\n",
        "    \"\"\"\n",
        "    Researchers at POSTECH have developed a revolutionary method for synthesizing single-crystal cathode materials, significantly boosting the lifespan and efficiency of electric vehicle batteries.\n",
        "    This breakthrough could extend the driving range and durability of EVs, making them more practical for everyday use. Additionally, scientists have created a 2D device that efficiently cools quantum systems, overcoming a significant hurdle in quantum computing development.\n",
        "    \"\"\",\n",
        "    \"\"\"\n",
        "    In Dubai, the year 2024 is packed with various business events such as the Dubai International Project Management Forum from January 15-18, focusing on sustainability and modern project management techniques.\n",
        "    Another key event is the Intersec 2024 exhibition, held from January 16-18, which will showcase innovations in safety, security, and fire protection technology with over 1,000 exhibitors and 45,000 attendees expected.\n",
        "    \"\"\"\n",
        "]"
      ],
      "metadata": {
        "id": "notJCYlFwUOU"
      },
      "execution_count": 64,
      "outputs": []
    },
    {
      "cell_type": "code",
      "source": [
        "final_prompts = [final_prompt_template.format(input=doc) for doc in docs]"
      ],
      "metadata": {
        "id": "KBq5AqWTw7H4"
      },
      "execution_count": 65,
      "outputs": []
    },
    {
      "cell_type": "code",
      "source": [
        "responses = llm.map().invoke(final_prompts)\n",
        "responses"
      ],
      "metadata": {
        "colab": {
          "base_uri": "https://localhost:8080/"
        },
        "id": "qPZjWlH6xJkI",
        "outputId": "e82a6e19-ca29-4e46-d4c8-18eb9974a53c"
      },
      "execution_count": 66,
      "outputs": [
        {
          "output_type": "execute_result",
          "data": {
            "text/plain": [
              "[AIMessage(content='AI: Technology', response_metadata={'token_usage': {'completion_tokens': 3, 'prompt_tokens': 385, 'total_tokens': 388}, 'model_name': 'gpt-3.5-turbo', 'system_fingerprint': None, 'finish_reason': 'stop', 'logprobs': None}, id='run-f5753df3-7b2f-4b03-9153-40e40f68db48-0'),\n",
              " AIMessage(content='AI: Business', response_metadata={'token_usage': {'completion_tokens': 3, 'prompt_tokens': 395, 'total_tokens': 398}, 'model_name': 'gpt-3.5-turbo', 'system_fingerprint': None, 'finish_reason': 'stop', 'logprobs': None}, id='run-bc819a78-65f3-4a18-abbf-0d010e479121-0')]"
            ]
          },
          "metadata": {},
          "execution_count": 66
        }
      ]
    },
    {
      "cell_type": "code",
      "source": [
        "for response in responses:\n",
        "  print(response.content)\n",
        "  print()"
      ],
      "metadata": {
        "colab": {
          "base_uri": "https://localhost:8080/"
        },
        "id": "d2lbBpaexSjp",
        "outputId": "fe05fb4f-4649-47ea-e673-ffd13cd9a90c"
      },
      "execution_count": 67,
      "outputs": [
        {
          "output_type": "stream",
          "name": "stdout",
          "text": [
            "AI: Technology\n",
            "\n",
            "AI: Business\n",
            "\n"
          ]
        }
      ]
    },
    {
      "cell_type": "markdown",
      "source": [
        "### Partial Prompt Templates\n",
        "\n",
        "\n",
        "When using prompt templates, like other methods, it can be beneficial to `partial` a template. This involves providing a subset of the required data values initially, creating a new template that expects the remaining data values later."
      ],
      "metadata": {
        "id": "JxNvesB0yE0i"
      }
    },
    {
      "cell_type": "code",
      "source": [
        "from datetime import datetime\n",
        "\n",
        "def _get_datetime():\n",
        "  now = datetime.now()\n",
        "  return now.strftime(\"%m/%d/%Y\")"
      ],
      "metadata": {
        "id": "R3VcQ5Fzx0I2"
      },
      "execution_count": 73,
      "outputs": []
    },
    {
      "cell_type": "code",
      "source": [
        "prompt_txt = \"\"\"write poem on {subject} on the date {date}\"\"\"\n",
        "prompt = ChatPromptTemplate.from_template(prompt_txt)"
      ],
      "metadata": {
        "id": "0NfITjsCyXiF"
      },
      "execution_count": 88,
      "outputs": []
    },
    {
      "cell_type": "code",
      "source": [
        "prompt = prompt.partial(date=_get_datetime)\n",
        "prompt"
      ],
      "metadata": {
        "colab": {
          "base_uri": "https://localhost:8080/"
        },
        "id": "1QOZ8gCDzBJn",
        "outputId": "76807349-1b41-4209-952d-5ab4a126c3b1"
      },
      "execution_count": 89,
      "outputs": [
        {
          "output_type": "execute_result",
          "data": {
            "text/plain": [
              "ChatPromptTemplate(input_variables=['subject'], partial_variables={'date': <function _get_datetime at 0x7e731a3c00d0>}, messages=[HumanMessagePromptTemplate(prompt=PromptTemplate(input_variables=['date', 'subject'], template='write poem on {subject} on the date {date}'))])"
            ]
          },
          "metadata": {},
          "execution_count": 89
        }
      ]
    },
    {
      "cell_type": "code",
      "source": [
        "subjects = [\"Science & Technology\", \"Physics\"]\n",
        "final_prompts = [prompt.format(subject = subject) for subject in subjects]\n",
        "final_prompts"
      ],
      "metadata": {
        "colab": {
          "base_uri": "https://localhost:8080/"
        },
        "id": "p9CyCzxdzNH7",
        "outputId": "7f50cfe2-9149-4e9a-c3b7-eaaceec9f449"
      },
      "execution_count": 90,
      "outputs": [
        {
          "output_type": "execute_result",
          "data": {
            "text/plain": [
              "['Human: write poem on Science & Technology on the date 07/13/2024',\n",
              " 'Human: write poem on Physics on the date 07/13/2024']"
            ]
          },
          "metadata": {},
          "execution_count": 90
        }
      ]
    },
    {
      "cell_type": "code",
      "source": [
        "responses = llm.map().invoke(final_prompts)"
      ],
      "metadata": {
        "id": "bpyJGFOAzmHM"
      },
      "execution_count": 91,
      "outputs": []
    },
    {
      "cell_type": "code",
      "source": [
        "for response in responses:\n",
        "  print(response.content)\n",
        "  print(\"--------------------------------------------------\")"
      ],
      "metadata": {
        "colab": {
          "base_uri": "https://localhost:8080/"
        },
        "id": "-_5W38nizyVT",
        "outputId": "e0b6a2a0-b34d-415a-d372-bc43ffdd1154"
      },
      "execution_count": 93,
      "outputs": [
        {
          "output_type": "stream",
          "name": "stdout",
          "text": [
            "In the realm of Science and Technology,\n",
            "We unlock the secrets of the universe with curiosity.\n",
            "From the smallest atom to the vast expanse of space,\n",
            "We push the boundaries of knowledge at a rapid pace.\n",
            "\n",
            "In labs and workshops, minds collaborate,\n",
            "To innovate and create, to elucidate.\n",
            "From AI to biotech, we strive to enhance,\n",
            "The quality of life, to give humanity a chance.\n",
            "\n",
            "With every discovery, we gain insight,\n",
            "Into the mysteries of existence, shining bright.\n",
            "We harness the power of innovation and invention,\n",
            "To shape a future of progress and ascension.\n",
            "\n",
            "So let us celebrate the wonders of Science and Tech,\n",
            "For they hold the key to a world that's dynamic and eclectic.\n",
            "May we continue to explore, to question, to dream,\n",
            "And unlock the potential of this ever-evolving stream.\n",
            "--------------------------------------------------\n",
            "In the realm of atoms and particles unseen,\n",
            "Physics reveals the secrets of the universe's machine.\n",
            "From the laws of motion to the theory of relativity,\n",
            "It unravels the mysteries with clarity and creativity.\n",
            "\n",
            "Einstein's equations and Newton's laws,\n",
            "Guide us through the cosmos with a scientific cause.\n",
            "From the smallest quark to the largest star,\n",
            "Physics explains it all, near and far.\n",
            "\n",
            "Through experiments and calculations,\n",
            "We explore the depths of space and time's fluctuations.\n",
            "From black holes to quantum entanglement,\n",
            "Physics pushes the boundaries of human engagement.\n",
            "\n",
            "So let us marvel at the wonders of Physics,\n",
            "As we delve into the unknown with curiosity and ethics.\n",
            "For in the study of matter and energy's interaction,\n",
            "We find the beauty and complexity of the universe's attraction.\n",
            "--------------------------------------------------\n"
          ]
        }
      ]
    }
  ]
}