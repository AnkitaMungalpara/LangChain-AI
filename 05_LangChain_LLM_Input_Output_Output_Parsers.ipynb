{
  "nbformat": 4,
  "nbformat_minor": 0,
  "metadata": {
    "colab": {
      "provenance": []
    },
    "kernelspec": {
      "name": "python3",
      "display_name": "Python 3"
    },
    "language_info": {
      "name": "python"
    }
  },
  "cells": [
    {
      "cell_type": "markdown",
      "source": [
        "# Output Parsers for LLM Input/Output with LangChain"
      ],
      "metadata": {
        "id": "msjNve71cgaI"
      }
    },
    {
      "cell_type": "markdown",
      "source": [
        "### Enter API Tokens"
      ],
      "metadata": {
        "id": "PNxEZGFGcwKW"
      }
    },
    {
      "cell_type": "code",
      "source": [
        "from google.colab import userdata\n",
        "OPENAI_API_KEY = userdata.get('OPENAI_API_KEY')"
      ],
      "metadata": {
        "id": "zjuDJRUfcdFD"
      },
      "execution_count": 1,
      "outputs": []
    },
    {
      "cell_type": "code",
      "source": [
        "import os\n",
        "os.environ['OPENAI_API_KEY'] = OPENAI_API_KEY"
      ],
      "metadata": {
        "id": "XYOT2ZJ9c5Ue"
      },
      "execution_count": 2,
      "outputs": []
    },
    {
      "cell_type": "markdown",
      "source": [
        "## Chat Models and LLMs\n",
        "\n",
        "LangChain uses existing Large Language Models (LLMs) from various providers like OpenAI and Hugging Face. It does not build its own LLMs but offers a standard API to interact with different LLMs through a standard interface."
      ],
      "metadata": {
        "id": "Qs4Cxy3cdEEh"
      }
    },
    {
      "cell_type": "markdown",
      "source": [
        "### Accessing Commercial LLMs like ChatGPT"
      ],
      "metadata": {
        "id": "RB88XVBOdNoS"
      }
    },
    {
      "cell_type": "code",
      "source": [
        "from langchain_openai import ChatOpenAI\n",
        "\n",
        "# instantiate the model\n",
        "llm = ChatOpenAI(\n",
        "                    model='gpt-3.5-turbo',\n",
        "                    temperature=0\n",
        "              )"
      ],
      "metadata": {
        "id": "8HdVzTLWc_bu"
      },
      "execution_count": 3,
      "outputs": []
    },
    {
      "cell_type": "markdown",
      "source": [
        "## Output Parsers\n",
        "\n",
        "Output parsers in Langchain are crucial for structuring responses from language models. Here are examples of Langchain's specific parser types:\n",
        "\n",
        "*   **PydanticOutputParser**:\n",
        "    - Uses Pydantic models to ensure outputs match a specified schema, providing type checking and coercion similar to Python dataclasses.\n",
        "\n",
        "*   **JsonOutputParser**:\n",
        "    - Ensures outputs adhere to an arbitrary JSON schema, with Pydantic models optionally used to declare the data structure.\n",
        "\n",
        "*   **CommaSeparatedListOutputParser**:\n",
        "    - Extracts comma-separated values from model outputs, useful for lists of items.\n"
      ],
      "metadata": {
        "id": "20kdMsv5dj-u"
      }
    },
    {
      "cell_type": "markdown",
      "source": [
        "### Pydantic OutputParser"
      ],
      "metadata": {
        "id": "GLod3jekdqIt"
      }
    },
    {
      "cell_type": "code",
      "source": [
        "from langchain_core.prompts import PromptTemplate\n",
        "from langchain_core.output_parsers import PydanticOutputParser\n",
        "from langchain_core.pydantic_v1 import BaseModel, Field"
      ],
      "metadata": {
        "id": "UgMO49Zddd-L"
      },
      "execution_count": 4,
      "outputs": []
    },
    {
      "cell_type": "code",
      "source": [
        "# define the desired data structure\n",
        "class QueryResponse(BaseModel):\n",
        "  description: str = Field(description= \"A brief description of the topic asked by the user\")\n",
        "  pros: str = Field(description='three points showing the pros of the topic asked by the user')\n",
        "  cons: str = Field(description='three points showing the cons of the topic asked by the user')\n",
        "  conclusion: str = Field(description=\"summary of topic asked by the user\")\n",
        "\n",
        "# Set up a parser and add instructions into the prompt template.\n",
        "parser = PydanticOutputParser(pydantic_object=QueryResponse)\n",
        "parser"
      ],
      "metadata": {
        "colab": {
          "base_uri": "https://localhost:8080/"
        },
        "id": "lWrdzMmVeAxV",
        "outputId": "08ef9f82-69c7-4e9f-dffc-dea0d4a3185c"
      },
      "execution_count": 5,
      "outputs": [
        {
          "output_type": "execute_result",
          "data": {
            "text/plain": [
              "PydanticOutputParser(pydantic_object=<class '__main__.QueryResponse'>)"
            ]
          },
          "metadata": {},
          "execution_count": 5
        }
      ]
    },
    {
      "cell_type": "code",
      "source": [
        "print(parser.get_format_instructions())"
      ],
      "metadata": {
        "colab": {
          "base_uri": "https://localhost:8080/"
        },
        "id": "sI77uatkfR2x",
        "outputId": "1d258068-9396-4a79-f80f-7b7738619a55"
      },
      "execution_count": 6,
      "outputs": [
        {
          "output_type": "stream",
          "name": "stdout",
          "text": [
            "The output should be formatted as a JSON instance that conforms to the JSON schema below.\n",
            "\n",
            "As an example, for the schema {\"properties\": {\"foo\": {\"title\": \"Foo\", \"description\": \"a list of strings\", \"type\": \"array\", \"items\": {\"type\": \"string\"}}}, \"required\": [\"foo\"]}\n",
            "the object {\"foo\": [\"bar\", \"baz\"]} is a well-formatted instance of the schema. The object {\"properties\": {\"foo\": [\"bar\", \"baz\"]}} is not well-formatted.\n",
            "\n",
            "Here is the output schema:\n",
            "```\n",
            "{\"properties\": {\"description\": {\"title\": \"Description\", \"description\": \"A brief description of the topic asked by the user\", \"type\": \"string\"}, \"pros\": {\"title\": \"Pros\", \"description\": \"three points showing the pros of the topic asked by the user\", \"type\": \"string\"}, \"cons\": {\"title\": \"Cons\", \"description\": \"three points showing the cons of the topic asked by the user\", \"type\": \"string\"}, \"conclusion\": {\"title\": \"Conclusion\", \"description\": \"summary of topic asked by the user\", \"type\": \"string\"}}, \"required\": [\"description\", \"pros\", \"cons\", \"conclusion\"]}\n",
            "```\n"
          ]
        }
      ]
    },
    {
      "cell_type": "code",
      "source": [
        "# create final prompt with formatting instructions from the parser\n",
        "\n",
        "prompt_txt = \"\"\"\n",
        "              Answer the user query and generate the response based on the following formmatted instructions:\n",
        "\n",
        "              formatted instructions:\n",
        "              {format_instructions}\n",
        "\n",
        "              Query:\n",
        "              {query}\n",
        "            \"\"\""
      ],
      "metadata": {
        "id": "S_QwBgdZfVzb"
      },
      "execution_count": 7,
      "outputs": []
    },
    {
      "cell_type": "code",
      "source": [
        "prompt = PromptTemplate(\n",
        "    template=prompt_txt,\n",
        "    input_variables=[\"query\"],\n",
        "    partial_variables={\"format_instructions\": parser.get_format_instructions()}\n",
        ")\n",
        "\n",
        "prompt"
      ],
      "metadata": {
        "colab": {
          "base_uri": "https://localhost:8080/"
        },
        "id": "lJu9Q_pUhAgr",
        "outputId": "0bf26493-7bdc-45c6-d58a-7246c05a9420"
      },
      "execution_count": 8,
      "outputs": [
        {
          "output_type": "execute_result",
          "data": {
            "text/plain": [
              "PromptTemplate(input_variables=['query'], partial_variables={'format_instructions': 'The output should be formatted as a JSON instance that conforms to the JSON schema below.\\n\\nAs an example, for the schema {\"properties\": {\"foo\": {\"title\": \"Foo\", \"description\": \"a list of strings\", \"type\": \"array\", \"items\": {\"type\": \"string\"}}}, \"required\": [\"foo\"]}\\nthe object {\"foo\": [\"bar\", \"baz\"]} is a well-formatted instance of the schema. The object {\"properties\": {\"foo\": [\"bar\", \"baz\"]}} is not well-formatted.\\n\\nHere is the output schema:\\n```\\n{\"properties\": {\"description\": {\"title\": \"Description\", \"description\": \"A brief description of the topic asked by the user\", \"type\": \"string\"}, \"pros\": {\"title\": \"Pros\", \"description\": \"three points showing the pros of the topic asked by the user\", \"type\": \"string\"}, \"cons\": {\"title\": \"Cons\", \"description\": \"three points showing the cons of the topic asked by the user\", \"type\": \"string\"}, \"conclusion\": {\"title\": \"Conclusion\", \"description\": \"summary of topic asked by the user\", \"type\": \"string\"}}, \"required\": [\"description\", \"pros\", \"cons\", \"conclusion\"]}\\n```'}, template='\\n              Answer the user query and generate the response based on the following formmatted instructions:\\n\\n              formatted instructions:\\n              {format_instructions}\\n\\n              Query:\\n              {query}\\n            ')"
            ]
          },
          "metadata": {},
          "execution_count": 8
        }
      ]
    },
    {
      "cell_type": "code",
      "source": [
        "chain = (prompt | llm | parser)"
      ],
      "metadata": {
        "id": "mkT4GXROhWfh"
      },
      "execution_count": 9,
      "outputs": []
    },
    {
      "cell_type": "code",
      "source": [
        "question = \"Tell me about the carbon sequestration\"\n",
        "\n",
        "# invoke chain\n",
        "response = chain.invoke({\"query\": question})"
      ],
      "metadata": {
        "id": "Wlku-U2xhlNp"
      },
      "execution_count": 10,
      "outputs": []
    },
    {
      "cell_type": "code",
      "source": [
        "# get the response\n",
        "response"
      ],
      "metadata": {
        "colab": {
          "base_uri": "https://localhost:8080/"
        },
        "id": "UPEAgrCdh55M",
        "outputId": "a75b1570-039a-4bb3-a23f-80ddc7e8d800"
      },
      "execution_count": 11,
      "outputs": [
        {
          "output_type": "execute_result",
          "data": {
            "text/plain": [
              "QueryResponse(description='Carbon sequestration is the process of capturing and storing carbon dioxide to mitigate its presence in the atmosphere and reduce the impact of climate change.', pros='1. Helps reduce greenhouse gas emissions. 2. Can help restore degraded lands. 3. Provides economic opportunities in carbon offset markets.', cons='1. Requires significant investment and technology. 2. Long-term storage risks and uncertainties. 3. Potential for negative environmental impacts if not managed properly.', conclusion='Overall, carbon sequestration has the potential to play a significant role in addressing climate change, but careful planning and monitoring are essential to ensure its effectiveness and sustainability.')"
            ]
          },
          "metadata": {},
          "execution_count": 11
        }
      ]
    },
    {
      "cell_type": "code",
      "source": [
        "response.description"
      ],
      "metadata": {
        "colab": {
          "base_uri": "https://localhost:8080/",
          "height": 71
        },
        "id": "DCTlR6Hzh726",
        "outputId": "a2f192a2-2d7a-478e-ea4d-ac35e8d02b2d"
      },
      "execution_count": 12,
      "outputs": [
        {
          "output_type": "execute_result",
          "data": {
            "text/plain": [
              "'Carbon sequestration is the process of capturing and storing carbon dioxide to mitigate its presence in the atmosphere and reduce the impact of climate change.'"
            ],
            "application/vnd.google.colaboratory.intrinsic+json": {
              "type": "string"
            }
          },
          "metadata": {},
          "execution_count": 12
        }
      ]
    },
    {
      "cell_type": "code",
      "source": [
        "# printing as dictionary\n",
        "response.dict()"
      ],
      "metadata": {
        "colab": {
          "base_uri": "https://localhost:8080/"
        },
        "id": "iGqf944Th93I",
        "outputId": "8ee9a427-8957-4e5d-b8b1-1b51e6bc7d11"
      },
      "execution_count": 13,
      "outputs": [
        {
          "output_type": "execute_result",
          "data": {
            "text/plain": [
              "{'description': 'Carbon sequestration is the process of capturing and storing carbon dioxide to mitigate its presence in the atmosphere and reduce the impact of climate change.',\n",
              " 'pros': '1. Helps reduce greenhouse gas emissions. 2. Can help restore degraded lands. 3. Provides economic opportunities in carbon offset markets.',\n",
              " 'cons': '1. Requires significant investment and technology. 2. Long-term storage risks and uncertainties. 3. Potential for negative environmental impacts if not managed properly.',\n",
              " 'conclusion': 'Overall, carbon sequestration has the potential to play a significant role in addressing climate change, but careful planning and monitoring are essential to ensure its effectiveness and sustainability.'}"
            ]
          },
          "metadata": {},
          "execution_count": 13
        }
      ]
    },
    {
      "cell_type": "code",
      "source": [
        "for key, value in response.dict().items():\n",
        "  print(f\"{key}:\\n{value}\\n\")"
      ],
      "metadata": {
        "colab": {
          "base_uri": "https://localhost:8080/"
        },
        "id": "T6TTgESJiD1t",
        "outputId": "e4a03f09-fff6-4821-fbde-18b5a15c44b8"
      },
      "execution_count": 14,
      "outputs": [
        {
          "output_type": "stream",
          "name": "stdout",
          "text": [
            "description:\n",
            "Carbon sequestration is the process of capturing and storing carbon dioxide to mitigate its presence in the atmosphere and reduce the impact of climate change.\n",
            "\n",
            "pros:\n",
            "1. Helps reduce greenhouse gas emissions. 2. Can help restore degraded lands. 3. Provides economic opportunities in carbon offset markets.\n",
            "\n",
            "cons:\n",
            "1. Requires significant investment and technology. 2. Long-term storage risks and uncertainties. 3. Potential for negative environmental impacts if not managed properly.\n",
            "\n",
            "conclusion:\n",
            "Overall, carbon sequestration has the potential to play a significant role in addressing climate change, but careful planning and monitoring are essential to ensure its effectiveness and sustainability.\n",
            "\n"
          ]
        }
      ]
    },
    {
      "cell_type": "markdown",
      "source": [
        "### JsonOutputParser"
      ],
      "metadata": {
        "id": "UmTXfi-din3L"
      }
    },
    {
      "cell_type": "code",
      "source": [
        "from typing import List\n",
        "\n",
        "from langchain_core.prompts import PromptTemplate\n",
        "from langchain_core.output_parsers import JsonOutputParser\n",
        "from langchain_core.pydantic_v1 import BaseModel, Field"
      ],
      "metadata": {
        "id": "o4Iy4YIfiR-8"
      },
      "execution_count": 15,
      "outputs": []
    },
    {
      "cell_type": "code",
      "source": [
        "# define the data structure\n",
        "class QueryResponse(BaseModel):\n",
        "  description: str = Field(description= \"A brief description of the topic asked by the user\")\n",
        "  pros: str = Field(description='three points showing the pros of the topic asked by the user')\n",
        "  cons: str = Field(description='three points showing the cons of the topic asked by the user')\n",
        "  conclusion: str = Field(description=\"summary of topic asked by the user\")\n",
        "\n",
        "# set up parser\n",
        "parser = JsonOutputParser(pydantic_object=QueryResponse)\n",
        "parser"
      ],
      "metadata": {
        "colab": {
          "base_uri": "https://localhost:8080/"
        },
        "id": "QbrKklQGjBx6",
        "outputId": "ef18a44a-9ecd-46a5-b2bb-c113179e1dc0"
      },
      "execution_count": 16,
      "outputs": [
        {
          "output_type": "execute_result",
          "data": {
            "text/plain": [
              "JsonOutputParser(pydantic_object=<class '__main__.QueryResponse'>)"
            ]
          },
          "metadata": {},
          "execution_count": 16
        }
      ]
    },
    {
      "cell_type": "code",
      "source": [
        "# create final prompt with formatting instructions from the parser\n",
        "\n",
        "prompt_txt = \"\"\"\n",
        "              Answer the user query and generate the response based on the following formmatted instructions:\n",
        "\n",
        "              formatted instructions:\n",
        "              {format_instructions}\n",
        "\n",
        "              Query:\n",
        "              {query}\n",
        "            \"\"\""
      ],
      "metadata": {
        "id": "8uZCRJnkjGSL"
      },
      "execution_count": 17,
      "outputs": []
    },
    {
      "cell_type": "code",
      "source": [
        "# create a template for a string prompt\n",
        "prompt = PromptTemplate(\n",
        "    template=prompt_txt,\n",
        "    input_variables=[\"query\"],\n",
        "    partial_variables={\"format_instructions\": parser.get_format_instructions()}\n",
        ")\n",
        "\n",
        "prompt"
      ],
      "metadata": {
        "colab": {
          "base_uri": "https://localhost:8080/"
        },
        "id": "PkcGsvJHjL7o",
        "outputId": "435d766a-2085-4d3e-f754-94d72c568b00"
      },
      "execution_count": 18,
      "outputs": [
        {
          "output_type": "execute_result",
          "data": {
            "text/plain": [
              "PromptTemplate(input_variables=['query'], partial_variables={'format_instructions': 'The output should be formatted as a JSON instance that conforms to the JSON schema below.\\n\\nAs an example, for the schema {\"properties\": {\"foo\": {\"title\": \"Foo\", \"description\": \"a list of strings\", \"type\": \"array\", \"items\": {\"type\": \"string\"}}}, \"required\": [\"foo\"]}\\nthe object {\"foo\": [\"bar\", \"baz\"]} is a well-formatted instance of the schema. The object {\"properties\": {\"foo\": [\"bar\", \"baz\"]}} is not well-formatted.\\n\\nHere is the output schema:\\n```\\n{\"properties\": {\"description\": {\"title\": \"Description\", \"description\": \"A brief description of the topic asked by the user\", \"type\": \"string\"}, \"pros\": {\"title\": \"Pros\", \"description\": \"three points showing the pros of the topic asked by the user\", \"type\": \"string\"}, \"cons\": {\"title\": \"Cons\", \"description\": \"three points showing the cons of the topic asked by the user\", \"type\": \"string\"}, \"conclusion\": {\"title\": \"Conclusion\", \"description\": \"summary of topic asked by the user\", \"type\": \"string\"}}, \"required\": [\"description\", \"pros\", \"cons\", \"conclusion\"]}\\n```'}, template='\\n              Answer the user query and generate the response based on the following formmatted instructions:\\n\\n              formatted instructions:\\n              {format_instructions}\\n\\n              Query:\\n              {query}\\n            ')"
            ]
          },
          "metadata": {},
          "execution_count": 18
        }
      ]
    },
    {
      "cell_type": "code",
      "source": [
        "# create a chain\n",
        "chain = (prompt | llm | parser)"
      ],
      "metadata": {
        "id": "hEgyYjFUjPcZ"
      },
      "execution_count": 19,
      "outputs": []
    },
    {
      "cell_type": "code",
      "source": [
        "chain"
      ],
      "metadata": {
        "colab": {
          "base_uri": "https://localhost:8080/"
        },
        "id": "xa2e7HaNjSbI",
        "outputId": "f3425545-d181-4567-86e4-2b69195a09cd"
      },
      "execution_count": 20,
      "outputs": [
        {
          "output_type": "execute_result",
          "data": {
            "text/plain": [
              "PromptTemplate(input_variables=['query'], partial_variables={'format_instructions': 'The output should be formatted as a JSON instance that conforms to the JSON schema below.\\n\\nAs an example, for the schema {\"properties\": {\"foo\": {\"title\": \"Foo\", \"description\": \"a list of strings\", \"type\": \"array\", \"items\": {\"type\": \"string\"}}}, \"required\": [\"foo\"]}\\nthe object {\"foo\": [\"bar\", \"baz\"]} is a well-formatted instance of the schema. The object {\"properties\": {\"foo\": [\"bar\", \"baz\"]}} is not well-formatted.\\n\\nHere is the output schema:\\n```\\n{\"properties\": {\"description\": {\"title\": \"Description\", \"description\": \"A brief description of the topic asked by the user\", \"type\": \"string\"}, \"pros\": {\"title\": \"Pros\", \"description\": \"three points showing the pros of the topic asked by the user\", \"type\": \"string\"}, \"cons\": {\"title\": \"Cons\", \"description\": \"three points showing the cons of the topic asked by the user\", \"type\": \"string\"}, \"conclusion\": {\"title\": \"Conclusion\", \"description\": \"summary of topic asked by the user\", \"type\": \"string\"}}, \"required\": [\"description\", \"pros\", \"cons\", \"conclusion\"]}\\n```'}, template='\\n              Answer the user query and generate the response based on the following formmatted instructions:\\n\\n              formatted instructions:\\n              {format_instructions}\\n\\n              Query:\\n              {query}\\n            ')\n",
              "| ChatOpenAI(client=<openai.resources.chat.completions.Completions object at 0x7d2609ab6fe0>, async_client=<openai.resources.chat.completions.AsyncCompletions object at 0x7d2609ae8730>, temperature=0.0, openai_api_key=SecretStr('**********'), openai_proxy='')\n",
              "| JsonOutputParser(pydantic_object=<class '__main__.QueryResponse'>)"
            ]
          },
          "metadata": {},
          "execution_count": 20
        }
      ]
    },
    {
      "cell_type": "code",
      "source": [
        "queries = [\n",
        "            \"Tell me about the carbon sequestration\",\n",
        "            \"Tell me about backpropagation algorithm in machine learning\"\n",
        "        ]"
      ],
      "metadata": {
        "id": "Dau2Mz1hjTyN"
      },
      "execution_count": 21,
      "outputs": []
    },
    {
      "cell_type": "code",
      "source": [
        "queries_formatted = [{\n",
        "                        \"query\": subject\n",
        "                    }\n",
        "                    for subject in queries]"
      ],
      "metadata": {
        "id": "bLrKtx55jsLk"
      },
      "execution_count": 22,
      "outputs": []
    },
    {
      "cell_type": "code",
      "source": [
        "queries_formatted"
      ],
      "metadata": {
        "colab": {
          "base_uri": "https://localhost:8080/"
        },
        "id": "YCgD6woKkEjh",
        "outputId": "dcfc946f-9e87-4dd3-d9fd-003181c89baf"
      },
      "execution_count": 23,
      "outputs": [
        {
          "output_type": "execute_result",
          "data": {
            "text/plain": [
              "[{'query': 'Tell me about the carbon sequestration'},\n",
              " {'query': 'Tell me about backpropagation algorithm in machine learning'}]"
            ]
          },
          "metadata": {},
          "execution_count": 23
        }
      ]
    },
    {
      "cell_type": "code",
      "source": [
        "# get the response\n",
        "responses = chain.map().invoke(queries_formatted)"
      ],
      "metadata": {
        "id": "IPhp9UsqkFd8"
      },
      "execution_count": 24,
      "outputs": []
    },
    {
      "cell_type": "code",
      "source": [
        "import pandas as pd\n",
        "\n",
        "# convert response to DataFrame\n",
        "data = pd.DataFrame(responses)\n",
        "data"
      ],
      "metadata": {
        "colab": {
          "base_uri": "https://localhost:8080/",
          "height": 199
        },
        "id": "0m1eSdN4kSMc",
        "outputId": "9a47a3f9-278e-4a8e-d5e9-8c5d85afd53f"
      },
      "execution_count": 25,
      "outputs": [
        {
          "output_type": "execute_result",
          "data": {
            "text/plain": [
              "                                         description  \\\n",
              "0  Carbon sequestration is the process of capturi...   \n",
              "1  Backpropagation is a key algorithm used in tra...   \n",
              "\n",
              "                                                pros  \\\n",
              "0  1. Helps reduce greenhouse gas emissions. 2. C...   \n",
              "1  1. Backpropagation allows neural networks to l...   \n",
              "\n",
              "                                                cons  \\\n",
              "0  1. Requires significant investment and technol...   \n",
              "1  1. Backpropagation can suffer from the vanishi...   \n",
              "\n",
              "                                          conclusion  \n",
              "0  Carbon sequestration has the potential to play...  \n",
              "1  In conclusion, backpropagation is a powerful a...  "
            ],
            "text/html": [
              "\n",
              "  <div id=\"df-e3aade0f-5749-47e6-ac56-6f755ddf30f8\" class=\"colab-df-container\">\n",
              "    <div>\n",
              "<style scoped>\n",
              "    .dataframe tbody tr th:only-of-type {\n",
              "        vertical-align: middle;\n",
              "    }\n",
              "\n",
              "    .dataframe tbody tr th {\n",
              "        vertical-align: top;\n",
              "    }\n",
              "\n",
              "    .dataframe thead th {\n",
              "        text-align: right;\n",
              "    }\n",
              "</style>\n",
              "<table border=\"1\" class=\"dataframe\">\n",
              "  <thead>\n",
              "    <tr style=\"text-align: right;\">\n",
              "      <th></th>\n",
              "      <th>description</th>\n",
              "      <th>pros</th>\n",
              "      <th>cons</th>\n",
              "      <th>conclusion</th>\n",
              "    </tr>\n",
              "  </thead>\n",
              "  <tbody>\n",
              "    <tr>\n",
              "      <th>0</th>\n",
              "      <td>Carbon sequestration is the process of capturi...</td>\n",
              "      <td>1. Helps reduce greenhouse gas emissions. 2. C...</td>\n",
              "      <td>1. Requires significant investment and technol...</td>\n",
              "      <td>Carbon sequestration has the potential to play...</td>\n",
              "    </tr>\n",
              "    <tr>\n",
              "      <th>1</th>\n",
              "      <td>Backpropagation is a key algorithm used in tra...</td>\n",
              "      <td>1. Backpropagation allows neural networks to l...</td>\n",
              "      <td>1. Backpropagation can suffer from the vanishi...</td>\n",
              "      <td>In conclusion, backpropagation is a powerful a...</td>\n",
              "    </tr>\n",
              "  </tbody>\n",
              "</table>\n",
              "</div>\n",
              "    <div class=\"colab-df-buttons\">\n",
              "\n",
              "  <div class=\"colab-df-container\">\n",
              "    <button class=\"colab-df-convert\" onclick=\"convertToInteractive('df-e3aade0f-5749-47e6-ac56-6f755ddf30f8')\"\n",
              "            title=\"Convert this dataframe to an interactive table.\"\n",
              "            style=\"display:none;\">\n",
              "\n",
              "  <svg xmlns=\"http://www.w3.org/2000/svg\" height=\"24px\" viewBox=\"0 -960 960 960\">\n",
              "    <path d=\"M120-120v-720h720v720H120Zm60-500h600v-160H180v160Zm220 220h160v-160H400v160Zm0 220h160v-160H400v160ZM180-400h160v-160H180v160Zm440 0h160v-160H620v160ZM180-180h160v-160H180v160Zm440 0h160v-160H620v160Z\"/>\n",
              "  </svg>\n",
              "    </button>\n",
              "\n",
              "  <style>\n",
              "    .colab-df-container {\n",
              "      display:flex;\n",
              "      gap: 12px;\n",
              "    }\n",
              "\n",
              "    .colab-df-convert {\n",
              "      background-color: #E8F0FE;\n",
              "      border: none;\n",
              "      border-radius: 50%;\n",
              "      cursor: pointer;\n",
              "      display: none;\n",
              "      fill: #1967D2;\n",
              "      height: 32px;\n",
              "      padding: 0 0 0 0;\n",
              "      width: 32px;\n",
              "    }\n",
              "\n",
              "    .colab-df-convert:hover {\n",
              "      background-color: #E2EBFA;\n",
              "      box-shadow: 0px 1px 2px rgba(60, 64, 67, 0.3), 0px 1px 3px 1px rgba(60, 64, 67, 0.15);\n",
              "      fill: #174EA6;\n",
              "    }\n",
              "\n",
              "    .colab-df-buttons div {\n",
              "      margin-bottom: 4px;\n",
              "    }\n",
              "\n",
              "    [theme=dark] .colab-df-convert {\n",
              "      background-color: #3B4455;\n",
              "      fill: #D2E3FC;\n",
              "    }\n",
              "\n",
              "    [theme=dark] .colab-df-convert:hover {\n",
              "      background-color: #434B5C;\n",
              "      box-shadow: 0px 1px 3px 1px rgba(0, 0, 0, 0.15);\n",
              "      filter: drop-shadow(0px 1px 2px rgba(0, 0, 0, 0.3));\n",
              "      fill: #FFFFFF;\n",
              "    }\n",
              "  </style>\n",
              "\n",
              "    <script>\n",
              "      const buttonEl =\n",
              "        document.querySelector('#df-e3aade0f-5749-47e6-ac56-6f755ddf30f8 button.colab-df-convert');\n",
              "      buttonEl.style.display =\n",
              "        google.colab.kernel.accessAllowed ? 'block' : 'none';\n",
              "\n",
              "      async function convertToInteractive(key) {\n",
              "        const element = document.querySelector('#df-e3aade0f-5749-47e6-ac56-6f755ddf30f8');\n",
              "        const dataTable =\n",
              "          await google.colab.kernel.invokeFunction('convertToInteractive',\n",
              "                                                    [key], {});\n",
              "        if (!dataTable) return;\n",
              "\n",
              "        const docLinkHtml = 'Like what you see? Visit the ' +\n",
              "          '<a target=\"_blank\" href=https://colab.research.google.com/notebooks/data_table.ipynb>data table notebook</a>'\n",
              "          + ' to learn more about interactive tables.';\n",
              "        element.innerHTML = '';\n",
              "        dataTable['output_type'] = 'display_data';\n",
              "        await google.colab.output.renderOutput(dataTable, element);\n",
              "        const docLink = document.createElement('div');\n",
              "        docLink.innerHTML = docLinkHtml;\n",
              "        element.appendChild(docLink);\n",
              "      }\n",
              "    </script>\n",
              "  </div>\n",
              "\n",
              "\n",
              "<div id=\"df-264bd025-0739-4c8a-a61f-49bb5591b6f4\">\n",
              "  <button class=\"colab-df-quickchart\" onclick=\"quickchart('df-264bd025-0739-4c8a-a61f-49bb5591b6f4')\"\n",
              "            title=\"Suggest charts\"\n",
              "            style=\"display:none;\">\n",
              "\n",
              "<svg xmlns=\"http://www.w3.org/2000/svg\" height=\"24px\"viewBox=\"0 0 24 24\"\n",
              "     width=\"24px\">\n",
              "    <g>\n",
              "        <path d=\"M19 3H5c-1.1 0-2 .9-2 2v14c0 1.1.9 2 2 2h14c1.1 0 2-.9 2-2V5c0-1.1-.9-2-2-2zM9 17H7v-7h2v7zm4 0h-2V7h2v10zm4 0h-2v-4h2v4z\"/>\n",
              "    </g>\n",
              "</svg>\n",
              "  </button>\n",
              "\n",
              "<style>\n",
              "  .colab-df-quickchart {\n",
              "      --bg-color: #E8F0FE;\n",
              "      --fill-color: #1967D2;\n",
              "      --hover-bg-color: #E2EBFA;\n",
              "      --hover-fill-color: #174EA6;\n",
              "      --disabled-fill-color: #AAA;\n",
              "      --disabled-bg-color: #DDD;\n",
              "  }\n",
              "\n",
              "  [theme=dark] .colab-df-quickchart {\n",
              "      --bg-color: #3B4455;\n",
              "      --fill-color: #D2E3FC;\n",
              "      --hover-bg-color: #434B5C;\n",
              "      --hover-fill-color: #FFFFFF;\n",
              "      --disabled-bg-color: #3B4455;\n",
              "      --disabled-fill-color: #666;\n",
              "  }\n",
              "\n",
              "  .colab-df-quickchart {\n",
              "    background-color: var(--bg-color);\n",
              "    border: none;\n",
              "    border-radius: 50%;\n",
              "    cursor: pointer;\n",
              "    display: none;\n",
              "    fill: var(--fill-color);\n",
              "    height: 32px;\n",
              "    padding: 0;\n",
              "    width: 32px;\n",
              "  }\n",
              "\n",
              "  .colab-df-quickchart:hover {\n",
              "    background-color: var(--hover-bg-color);\n",
              "    box-shadow: 0 1px 2px rgba(60, 64, 67, 0.3), 0 1px 3px 1px rgba(60, 64, 67, 0.15);\n",
              "    fill: var(--button-hover-fill-color);\n",
              "  }\n",
              "\n",
              "  .colab-df-quickchart-complete:disabled,\n",
              "  .colab-df-quickchart-complete:disabled:hover {\n",
              "    background-color: var(--disabled-bg-color);\n",
              "    fill: var(--disabled-fill-color);\n",
              "    box-shadow: none;\n",
              "  }\n",
              "\n",
              "  .colab-df-spinner {\n",
              "    border: 2px solid var(--fill-color);\n",
              "    border-color: transparent;\n",
              "    border-bottom-color: var(--fill-color);\n",
              "    animation:\n",
              "      spin 1s steps(1) infinite;\n",
              "  }\n",
              "\n",
              "  @keyframes spin {\n",
              "    0% {\n",
              "      border-color: transparent;\n",
              "      border-bottom-color: var(--fill-color);\n",
              "      border-left-color: var(--fill-color);\n",
              "    }\n",
              "    20% {\n",
              "      border-color: transparent;\n",
              "      border-left-color: var(--fill-color);\n",
              "      border-top-color: var(--fill-color);\n",
              "    }\n",
              "    30% {\n",
              "      border-color: transparent;\n",
              "      border-left-color: var(--fill-color);\n",
              "      border-top-color: var(--fill-color);\n",
              "      border-right-color: var(--fill-color);\n",
              "    }\n",
              "    40% {\n",
              "      border-color: transparent;\n",
              "      border-right-color: var(--fill-color);\n",
              "      border-top-color: var(--fill-color);\n",
              "    }\n",
              "    60% {\n",
              "      border-color: transparent;\n",
              "      border-right-color: var(--fill-color);\n",
              "    }\n",
              "    80% {\n",
              "      border-color: transparent;\n",
              "      border-right-color: var(--fill-color);\n",
              "      border-bottom-color: var(--fill-color);\n",
              "    }\n",
              "    90% {\n",
              "      border-color: transparent;\n",
              "      border-bottom-color: var(--fill-color);\n",
              "    }\n",
              "  }\n",
              "</style>\n",
              "\n",
              "  <script>\n",
              "    async function quickchart(key) {\n",
              "      const quickchartButtonEl =\n",
              "        document.querySelector('#' + key + ' button');\n",
              "      quickchartButtonEl.disabled = true;  // To prevent multiple clicks.\n",
              "      quickchartButtonEl.classList.add('colab-df-spinner');\n",
              "      try {\n",
              "        const charts = await google.colab.kernel.invokeFunction(\n",
              "            'suggestCharts', [key], {});\n",
              "      } catch (error) {\n",
              "        console.error('Error during call to suggestCharts:', error);\n",
              "      }\n",
              "      quickchartButtonEl.classList.remove('colab-df-spinner');\n",
              "      quickchartButtonEl.classList.add('colab-df-quickchart-complete');\n",
              "    }\n",
              "    (() => {\n",
              "      let quickchartButtonEl =\n",
              "        document.querySelector('#df-264bd025-0739-4c8a-a61f-49bb5591b6f4 button');\n",
              "      quickchartButtonEl.style.display =\n",
              "        google.colab.kernel.accessAllowed ? 'block' : 'none';\n",
              "    })();\n",
              "  </script>\n",
              "</div>\n",
              "\n",
              "  <div id=\"id_725a59a1-9965-4420-8322-a4091d64ff88\">\n",
              "    <style>\n",
              "      .colab-df-generate {\n",
              "        background-color: #E8F0FE;\n",
              "        border: none;\n",
              "        border-radius: 50%;\n",
              "        cursor: pointer;\n",
              "        display: none;\n",
              "        fill: #1967D2;\n",
              "        height: 32px;\n",
              "        padding: 0 0 0 0;\n",
              "        width: 32px;\n",
              "      }\n",
              "\n",
              "      .colab-df-generate:hover {\n",
              "        background-color: #E2EBFA;\n",
              "        box-shadow: 0px 1px 2px rgba(60, 64, 67, 0.3), 0px 1px 3px 1px rgba(60, 64, 67, 0.15);\n",
              "        fill: #174EA6;\n",
              "      }\n",
              "\n",
              "      [theme=dark] .colab-df-generate {\n",
              "        background-color: #3B4455;\n",
              "        fill: #D2E3FC;\n",
              "      }\n",
              "\n",
              "      [theme=dark] .colab-df-generate:hover {\n",
              "        background-color: #434B5C;\n",
              "        box-shadow: 0px 1px 3px 1px rgba(0, 0, 0, 0.15);\n",
              "        filter: drop-shadow(0px 1px 2px rgba(0, 0, 0, 0.3));\n",
              "        fill: #FFFFFF;\n",
              "      }\n",
              "    </style>\n",
              "    <button class=\"colab-df-generate\" onclick=\"generateWithVariable('data')\"\n",
              "            title=\"Generate code using this dataframe.\"\n",
              "            style=\"display:none;\">\n",
              "\n",
              "  <svg xmlns=\"http://www.w3.org/2000/svg\" height=\"24px\"viewBox=\"0 0 24 24\"\n",
              "       width=\"24px\">\n",
              "    <path d=\"M7,19H8.4L18.45,9,17,7.55,7,17.6ZM5,21V16.75L18.45,3.32a2,2,0,0,1,2.83,0l1.4,1.43a1.91,1.91,0,0,1,.58,1.4,1.91,1.91,0,0,1-.58,1.4L9.25,21ZM18.45,9,17,7.55Zm-12,3A5.31,5.31,0,0,0,4.9,8.1,5.31,5.31,0,0,0,1,6.5,5.31,5.31,0,0,0,4.9,4.9,5.31,5.31,0,0,0,6.5,1,5.31,5.31,0,0,0,8.1,4.9,5.31,5.31,0,0,0,12,6.5,5.46,5.46,0,0,0,6.5,12Z\"/>\n",
              "  </svg>\n",
              "    </button>\n",
              "    <script>\n",
              "      (() => {\n",
              "      const buttonEl =\n",
              "        document.querySelector('#id_725a59a1-9965-4420-8322-a4091d64ff88 button.colab-df-generate');\n",
              "      buttonEl.style.display =\n",
              "        google.colab.kernel.accessAllowed ? 'block' : 'none';\n",
              "\n",
              "      buttonEl.onclick = () => {\n",
              "        google.colab.notebook.generateWithVariable('data');\n",
              "      }\n",
              "      })();\n",
              "    </script>\n",
              "  </div>\n",
              "\n",
              "    </div>\n",
              "  </div>\n"
            ],
            "application/vnd.google.colaboratory.intrinsic+json": {
              "type": "dataframe",
              "variable_name": "data",
              "summary": "{\n  \"name\": \"data\",\n  \"rows\": 2,\n  \"fields\": [\n    {\n      \"column\": \"description\",\n      \"properties\": {\n        \"dtype\": \"string\",\n        \"num_unique_values\": 2,\n        \"samples\": [\n          \"Backpropagation is a key algorithm used in training artificial neural networks in machine learning. It involves calculating the gradient of a loss function with respect to the weights of the network, and then using this gradient to update the weights in order to minimize the loss.\",\n          \"Carbon sequestration is the process of capturing and storing carbon dioxide to mitigate its presence in the atmosphere and combat climate change.\"\n        ],\n        \"semantic_type\": \"\",\n        \"description\": \"\"\n      }\n    },\n    {\n      \"column\": \"pros\",\n      \"properties\": {\n        \"dtype\": \"string\",\n        \"num_unique_values\": 2,\n        \"samples\": [\n          \"1. Backpropagation allows neural networks to learn complex patterns and relationships in data. 2. It is an efficient way to optimize the weights of a neural network. 3. Backpropagation can be used in various types of neural networks, such as feedforward and recurrent networks.\",\n          \"1. Helps reduce greenhouse gas emissions. 2. Can help improve soil quality. 3. Provides potential economic opportunities in carbon trading.\"\n        ],\n        \"semantic_type\": \"\",\n        \"description\": \"\"\n      }\n    },\n    {\n      \"column\": \"cons\",\n      \"properties\": {\n        \"dtype\": \"string\",\n        \"num_unique_values\": 2,\n        \"samples\": [\n          \"1. Backpropagation can suffer from the vanishing gradient problem in deep neural networks. 2. It requires a large amount of labeled training data to perform well. 3. Backpropagation can be computationally expensive, especially for large networks.\",\n          \"1. Requires significant investment and technology. 2. Some methods may have limited effectiveness. 3. Long-term storage risks and uncertainties.\"\n        ],\n        \"semantic_type\": \"\",\n        \"description\": \"\"\n      }\n    },\n    {\n      \"column\": \"conclusion\",\n      \"properties\": {\n        \"dtype\": \"string\",\n        \"num_unique_values\": 2,\n        \"samples\": [\n          \"In conclusion, backpropagation is a powerful algorithm that has been instrumental in the success of neural networks in machine learning, despite some limitations.\",\n          \"Carbon sequestration has the potential to play a significant role in addressing climate change, but it also comes with challenges and uncertainties that need to be carefully considered.\"\n        ],\n        \"semantic_type\": \"\",\n        \"description\": \"\"\n      }\n    }\n  ]\n}"
            }
          },
          "metadata": {},
          "execution_count": 25
        }
      ]
    },
    {
      "cell_type": "code",
      "source": [
        "for response in responses:\n",
        "  for key, val in response.items():\n",
        "    print(f\"{key}:\\n{val}\\n\")\n",
        "  print('-----------------------------------------------------------')"
      ],
      "metadata": {
        "colab": {
          "base_uri": "https://localhost:8080/"
        },
        "id": "_w2GKcopkf7D",
        "outputId": "3b5a5418-20f6-42ce-de9b-733b617b829f"
      },
      "execution_count": 26,
      "outputs": [
        {
          "output_type": "stream",
          "name": "stdout",
          "text": [
            "description:\n",
            "Carbon sequestration is the process of capturing and storing carbon dioxide to mitigate its presence in the atmosphere and combat climate change.\n",
            "\n",
            "pros:\n",
            "1. Helps reduce greenhouse gas emissions. 2. Can help improve soil quality. 3. Provides potential economic opportunities in carbon trading.\n",
            "\n",
            "cons:\n",
            "1. Requires significant investment and technology. 2. Some methods may have limited effectiveness. 3. Long-term storage risks and uncertainties.\n",
            "\n",
            "conclusion:\n",
            "Carbon sequestration has the potential to play a significant role in addressing climate change, but it also comes with challenges and uncertainties that need to be carefully considered.\n",
            "\n",
            "-----------------------------------------------------------\n",
            "description:\n",
            "Backpropagation is a key algorithm used in training artificial neural networks in machine learning. It involves calculating the gradient of a loss function with respect to the weights of the network, and then using this gradient to update the weights in order to minimize the loss.\n",
            "\n",
            "pros:\n",
            "1. Backpropagation allows neural networks to learn complex patterns and relationships in data. 2. It is an efficient way to optimize the weights of a neural network. 3. Backpropagation can be used in various types of neural networks, such as feedforward and recurrent networks.\n",
            "\n",
            "cons:\n",
            "1. Backpropagation can suffer from the vanishing gradient problem in deep neural networks. 2. It requires a large amount of labeled training data to perform well. 3. Backpropagation can be computationally expensive, especially for large networks.\n",
            "\n",
            "conclusion:\n",
            "In conclusion, backpropagation is a powerful algorithm that has been instrumental in the success of neural networks in machine learning, despite some limitations.\n",
            "\n",
            "-----------------------------------------------------------\n"
          ]
        }
      ]
    },
    {
      "cell_type": "markdown",
      "source": [
        "### CommaSeparatedListOutputParser"
      ],
      "metadata": {
        "id": "5kwCMXnQlF5a"
      }
    },
    {
      "cell_type": "code",
      "source": [
        "from langchain_core.output_parsers import CommaSeparatedListOutputParser"
      ],
      "metadata": {
        "id": "r5P0zH0ak02m"
      },
      "execution_count": 27,
      "outputs": []
    },
    {
      "cell_type": "code",
      "source": [
        "# output parser\n",
        "output_parser = CommaSeparatedListOutputParser()\n",
        "\n",
        "# get formatted instructions\n",
        "format_instructions = output_parser.get_format_instructions()\n",
        "format_instructions"
      ],
      "metadata": {
        "colab": {
          "base_uri": "https://localhost:8080/",
          "height": 53
        },
        "id": "gth17qR7lSix",
        "outputId": "77b2059a-fe9f-425c-faba-69ddf4530786"
      },
      "execution_count": 28,
      "outputs": [
        {
          "output_type": "execute_result",
          "data": {
            "text/plain": [
              "'Your response should be a list of comma separated values, eg: `foo, bar, baz` or `foo,bar,baz`'"
            ],
            "application/vnd.google.colaboratory.intrinsic+json": {
              "type": "string"
            }
          },
          "metadata": {},
          "execution_count": 28
        }
      ]
    },
    {
      "cell_type": "code",
      "source": [
        "# create final prompt with formatting instructions from the parser\n",
        "\n",
        "prompt_txt = \"\"\"\n",
        "              List 5 real-world use cases where object detection can be used:\n",
        "\n",
        "              output format instructions:\n",
        "              {format_instructions}\n",
        "\n",
        "            \"\"\""
      ],
      "metadata": {
        "id": "dPnIILlGlcDK"
      },
      "execution_count": 29,
      "outputs": []
    },
    {
      "cell_type": "code",
      "source": [
        "prompt = PromptTemplate.from_template(template=prompt_txt)\n",
        "prompt"
      ],
      "metadata": {
        "colab": {
          "base_uri": "https://localhost:8080/"
        },
        "id": "B2v1Jq8Gl4J7",
        "outputId": "8b96edae-1b78-403c-9a2c-c439b09cc261"
      },
      "execution_count": 30,
      "outputs": [
        {
          "output_type": "execute_result",
          "data": {
            "text/plain": [
              "PromptTemplate(input_variables=['format_instructions'], template='\\n              List 5 real-world use cases where object detection can be used:\\n\\n              output format instructions:\\n              {format_instructions}\\n\\n            ')"
            ]
          },
          "metadata": {},
          "execution_count": 30
        }
      ]
    },
    {
      "cell_type": "code",
      "source": [
        "chain = (prompt | llm | output_parser)"
      ],
      "metadata": {
        "id": "jPq8QmSBl9To"
      },
      "execution_count": 31,
      "outputs": []
    },
    {
      "cell_type": "code",
      "source": [
        "response = chain.invoke({'format_instructions': format_instructions})"
      ],
      "metadata": {
        "id": "QrKv1jvDmDuz"
      },
      "execution_count": 32,
      "outputs": []
    },
    {
      "cell_type": "code",
      "source": [
        "# loop through response as it is list\n",
        "for r in response:\n",
        "  print(r)"
      ],
      "metadata": {
        "colab": {
          "base_uri": "https://localhost:8080/"
        },
        "id": "lRmVxn5TmPKv",
        "outputId": "59505614-7034-4ff4-c901-c7bbfa8e7955"
      },
      "execution_count": 33,
      "outputs": [
        {
          "output_type": "stream",
          "name": "stdout",
          "text": [
            "1. Autonomous vehicles for detecting pedestrians\n",
            "cyclists\n",
            "and other vehicles on the road\n",
            "2. Retail stores for tracking inventory levels and monitoring product placement\n",
            "3. Security systems for identifying unauthorized individuals entering restricted areas\n",
            "4. Healthcare for analyzing medical images and detecting abnormalities or diseases\n",
            "5. Agriculture for monitoring crop health and identifying pests or diseases in plants\n"
          ]
        }
      ]
    }
  ]
}